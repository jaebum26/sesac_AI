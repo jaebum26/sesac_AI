{
 "cells": [
  {
   "cell_type": "code",
   "execution_count": null,
   "metadata": {},
   "outputs": [],
   "source": [
    "from PIL import Image, ImageFilter\n",
    "import glob\n",
    "\n",
    "inum = 0\n",
    "img_n = glob.glob('./img/*.jpg')\n",
    "\n",
    "for a in range(5):\n",
    "    if inum >= 0 and inum <= 4:\n",
    "        inum=input('가져올 이미지의 번호를 적으시오.(0~4)')\n",
    "        break\n",
    "    else:\n",
    "        print('번호를 0~4번중에 다시 적어주세요.')\n",
    "\n",
    "inum = int(inum)\n",
    "img = img_n[inum]\n",
    "\n",
    "showi = Image.open(img)\n",
    "\n",
    "\n",
    "\n"
   ]
  }
 ],
 "metadata": {
  "kernelspec": {
   "display_name": "a",
   "language": "python",
   "name": "python3"
  },
  "language_info": {
   "name": "python",
   "version": "3.12.0"
  }
 },
 "nbformat": 4,
 "nbformat_minor": 2
}
