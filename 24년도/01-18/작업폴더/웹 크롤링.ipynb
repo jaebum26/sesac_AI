{
 "cells": [
  {
   "cell_type": "code",
   "execution_count": 8,
   "metadata": {},
   "outputs": [
    {
     "name": "stdout",
     "output_type": "stream",
     "text": [
      "<Response [200]>\n"
     ]
    }
   ],
   "source": [
    "# step1.프로젝트에 필요한 패키지 불러오기\n",
    "\n",
    "from bs4 import BeautifulSoup as bs\n",
    "\n",
    "import requests\n",
    "\n",
    "\n",
    "# step2. 검색할 키워드 입력\n",
    "\n",
    "query = '손흥민'\n",
    "\n",
    "\n",
    "# step3. 입력받은 query가 포함된 url 주소(네이버 뉴스 검색 결과 페이지) 저장\n",
    "\n",
    "url = 'https://search.naver.com/search.naver?where=news&sm=tab_jum&query='+'%s'%query\n",
    "\n",
    "\n",
    "# step4. requests 패키지를 이용해 'url'의 html 문서 가져오기\n",
    "\n",
    "response = requests.get(url)\n",
    "print(response)\n",
    "html_text = response.text\n",
    "\n",
    "\n",
    "# step5. beautifulsoup 패키지로 파싱 후, 'soup' 변수에 저장\n",
    "\n",
    "soup = bs(response.text, 'html.parser')"
   ]
  },
  {
   "cell_type": "code",
   "execution_count": 9,
   "metadata": {},
   "outputs": [
    {
     "name": "stdout",
     "output_type": "stream",
     "text": [
      "훈련 참가한 손흥민\n",
      "손흥민, 호날두 제쳤다\n",
      "무릎에 테이핑한 손흥민\n",
      "손흥민, 호날두·김민재 제치고 7년 연속 亞 발롱도르 수상…통산 9번째\n",
      "[사진]손흥민-황희찬,'싱글벙글'\n",
      "훈련하는 손흥민-황희찬\n",
      "\"매 경기 특별하게\" 손흥민, 아시안컵 우승 의지 피력\n",
      "[아시안컵] '요르단 손흥민' 막아라…클린스만호 조기 16강 확정 도전\n",
      "손흥민, 바레인전 이어 훈련에도 테이핑…\"회복과 부상방지 도움\" [아시안컵]\n",
      "아시안컵 우승 도전하는 손흥민 \"매 경기 특별하게\"\n"
     ]
    }
   ],
   "source": [
    "#step6.뉴스 제목 텍스트 추출\n",
    "\n",
    "news_titles = soup.select(\"a.news_tit\")\n",
    "\n",
    "for i in news_titles:\n",
    "    title = i.get_text()\n",
    "    print(title)\n"
   ]
  }
 ],
 "metadata": {
  "kernelspec": {
   "display_name": "a",
   "language": "python",
   "name": "python3"
  },
  "language_info": {
   "codemirror_mode": {
    "name": "ipython",
    "version": 3
   },
   "file_extension": ".py",
   "mimetype": "text/x-python",
   "name": "python",
   "nbconvert_exporter": "python",
   "pygments_lexer": "ipython3",
   "version": "3.12.0"
  }
 },
 "nbformat": 4,
 "nbformat_minor": 2
}
