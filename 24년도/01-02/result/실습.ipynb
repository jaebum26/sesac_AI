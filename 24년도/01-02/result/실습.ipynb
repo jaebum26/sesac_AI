{
 "cells": [
  {
   "cell_type": "code",
   "execution_count": 3,
   "metadata": {},
   "outputs": [
    {
     "name": "stdout",
     "output_type": "stream",
     "text": [
      "5\n",
      "typeError\n"
     ]
    }
   ],
   "source": [
    "def a(data):\n",
    "    if type(data)==int:\n",
    "        print(data)\n",
    "    else:\n",
    "        print('typeError')\n",
    "\n",
    "a(5)\n",
    "a('ddd')"
   ]
  },
  {
   "cell_type": "code",
   "execution_count": 6,
   "metadata": {},
   "outputs": [
    {
     "name": "stdout",
     "output_type": "stream",
     "text": [
      "5\n"
     ]
    },
    {
     "ename": "ValueError",
     "evalue": "only int type",
     "output_type": "error",
     "traceback": [
      "\u001b[1;31m---------------------------------------------------------------------------\u001b[0m",
      "\u001b[1;31mValueError\u001b[0m                                Traceback (most recent call last)",
      "Cell \u001b[1;32mIn[6], line 8\u001b[0m\n\u001b[0;32m      5\u001b[0m         \u001b[38;5;28;01mraise\u001b[39;00m \u001b[38;5;167;01mValueError\u001b[39;00m(\u001b[38;5;124m'\u001b[39m\u001b[38;5;124monly int type\u001b[39m\u001b[38;5;124m'\u001b[39m)\n\u001b[0;32m      7\u001b[0m a(\u001b[38;5;241m5\u001b[39m)\n\u001b[1;32m----> 8\u001b[0m \u001b[43ma\u001b[49m\u001b[43m(\u001b[49m\u001b[38;5;124;43m'\u001b[39;49m\u001b[38;5;124;43mddd\u001b[39;49m\u001b[38;5;124;43m'\u001b[39;49m\u001b[43m)\u001b[49m\n",
      "Cell \u001b[1;32mIn[6], line 5\u001b[0m, in \u001b[0;36ma\u001b[1;34m(data)\u001b[0m\n\u001b[0;32m      3\u001b[0m     \u001b[38;5;28mprint\u001b[39m(data)\n\u001b[0;32m      4\u001b[0m \u001b[38;5;28;01melse\u001b[39;00m:\n\u001b[1;32m----> 5\u001b[0m     \u001b[38;5;28;01mraise\u001b[39;00m \u001b[38;5;167;01mValueError\u001b[39;00m(\u001b[38;5;124m'\u001b[39m\u001b[38;5;124monly int type\u001b[39m\u001b[38;5;124m'\u001b[39m)\n",
      "\u001b[1;31mValueError\u001b[0m: only int type"
     ]
    }
   ],
   "source": [
    "def a(data: int):\n",
    "    if isinstance(data,int):\n",
    "        print(data)\n",
    "    else:\n",
    "        raise ValueError('only int type')\n",
    "\n",
    "a(5)\n",
    "a('ddd')"
   ]
  },
  {
   "cell_type": "code",
   "execution_count": 8,
   "metadata": {},
   "outputs": [],
   "source": [
    "import os\n",
    "\n",
    "os.mkdir('c:/data') #폴더 생성"
   ]
  },
  {
   "cell_type": "code",
   "execution_count": null,
   "metadata": {},
   "outputs": [],
   "source": [
    "os.mkdir('c:/data/result') #폴더 생성"
   ]
  },
  {
   "cell_type": "code",
   "execution_count": 19,
   "metadata": {},
   "outputs": [
    {
     "name": "stdout",
     "output_type": "stream",
     "text": [
      "폴더'c:/data/result'는 이미 존재합니다.\n",
      "['img']\n"
     ]
    }
   ],
   "source": [
    "folder_path = 'c:/data/result'\n",
    "\n",
    "def createFolder(folder_path,num: int=3,root='c:/data'):\n",
    "    try:\n",
    "        os.makedirs(folder_path)\n",
    "        print(f\"폴더 '{folder_path}'가 생성되었습니다.\")\n",
    "    except FileExistsError:\n",
    "        print(f\"폴더'{folder_path}'는 이미 존재합니다.\")\n",
    "    print(os.listdir(root)[:1])\n",
    "\n",
    "createFolder(folder_path)\n"
   ]
  },
  {
   "cell_type": "code",
   "execution_count": 12,
   "metadata": {},
   "outputs": [
    {
     "data": {
      "text/plain": [
       "['img', 'result']"
      ]
     },
     "execution_count": 12,
     "metadata": {},
     "output_type": "execute_result"
    }
   ],
   "source": [
    "os.listdir('c:/data')"
   ]
  },
  {
   "cell_type": "code",
   "execution_count": 20,
   "metadata": {},
   "outputs": [
    {
     "name": "stdout",
     "output_type": "stream",
     "text": [
      "Collecting qrcode\n",
      "  Downloading qrcode-7.4.2-py3-none-any.whl (46 kB)\n",
      "     ---------------------------------------- 0.0/46.2 kB ? eta -:--:--\n",
      "     ----------------------------------- ---- 41.0/46.2 kB ? eta -:--:--\n",
      "     ----------------------------------- ---- 41.0/46.2 kB ? eta -:--:--\n",
      "     ----------------------------------- ---- 41.0/46.2 kB ? eta -:--:--\n",
      "     ----------------------------------- ---- 41.0/46.2 kB ? eta -:--:--\n",
      "     ----------------------------------- ---- 41.0/46.2 kB ? eta -:--:--\n",
      "     ----------------------------------- ---- 41.0/46.2 kB ? eta -:--:--\n",
      "     ----------------------------------- ---- 41.0/46.2 kB ? eta -:--:--\n",
      "     ----------------------------------- ---- 41.0/46.2 kB ? eta -:--:--\n",
      "     ----------------------------------- ---- 41.0/46.2 kB ? eta -:--:--\n",
      "     ----------------------------------- ---- 41.0/46.2 kB ? eta -:--:--\n",
      "     ----------------------------------- ---- 41.0/46.2 kB ? eta -:--:--\n",
      "     ----------------------------------- ---- 41.0/46.2 kB ? eta -:--:--\n",
      "     ----------------------------------- ---- 41.0/46.2 kB ? eta -:--:--\n",
      "     ----------------------------------- ---- 41.0/46.2 kB ? eta -:--:--\n",
      "     ----------------------------------- ---- 41.0/46.2 kB ? eta -:--:--\n",
      "     ----------------------------------- ---- 41.0/46.2 kB ? eta -:--:--\n",
      "     --------------------------------------- 46.2/46.2 kB 47.9 kB/s eta 0:00:00\n",
      "Requirement already satisfied: typing-extensions in c:\\users\\blucom005\\miniconda3\\envs\\a\\lib\\site-packages (from qrcode) (4.9.0)\n",
      "Collecting pypng (from qrcode)\n",
      "  Downloading pypng-0.20220715.0-py3-none-any.whl (58 kB)\n",
      "     ---------------------------------------- 0.0/58.1 kB ? eta -:--:--\n",
      "     ------- -------------------------------- 10.2/58.1 kB ? eta -:--:--\n",
      "     ------- -------------------------------- 10.2/58.1 kB ? eta -:--:--\n",
      "     -------------------- ----------------- 30.7/58.1 kB 186.2 kB/s eta 0:00:01\n",
      "     -------------------------------------- 58.1/58.1 kB 434.7 kB/s eta 0:00:00\n",
      "Requirement already satisfied: colorama in c:\\users\\blucom005\\miniconda3\\envs\\a\\lib\\site-packages (from qrcode) (0.4.6)\n",
      "Installing collected packages: pypng, qrcode\n",
      "Successfully installed pypng-0.20220715.0 qrcode-7.4.2\n"
     ]
    }
   ],
   "source": [
    "!pip install qrcode"
   ]
  },
  {
   "cell_type": "code",
   "execution_count": 23,
   "metadata": {},
   "outputs": [],
   "source": [
    "import qrcode\n",
    "\n",
    "# QR 코드에 담을 정보\n",
    "data = \"https://www.naver.com\"\n",
    "\n",
    "# QR 코드 생성\n",
    "qr = qrcode.QRCode(\n",
    "    version=1,\n",
    "    error_correction=qrcode.constants.ERROR_CORRECT_L,\n",
    "    box_size=10,\n",
    "    border=4,\n",
    ")\n",
    "qr.add_data(data)\n",
    "qr.make(fit=True)\n",
    "\n",
    "# QR 코드 이미지 생성\n",
    "img = qr.make_image(fill_color=\"black\", back_color=\"white\")\n",
    "\n",
    "# 저장할 디렉토리 경로\n",
    "save_directory = r\"C:\\Users\\blucom005\\Downloads\\01-02\\result\"\n",
    "\n",
    "# 이미지 저장\n",
    "img_path = os.path.join(save_directory, \"qrcode.png\")\n",
    "img.save(img_path)"
   ]
  },
  {
   "cell_type": "code",
   "execution_count": 24,
   "metadata": {},
   "outputs": [
    {
     "name": "stdout",
     "output_type": "stream",
     "text": [
      "QR 코드 이미지가 www.google.com 이름으로 저장되었습니다.\n"
     ]
    }
   ],
   "source": [
    "import qrcode\n",
    "\n",
    "# 사용자로부터 입력 받기\n",
    "data_input = input(\"QR 코드에 넣을 주소 또는 데이터를 입력하세요: \")\n",
    "\n",
    "# QR 코드 생성\n",
    "qr = qrcode.QRCode(\n",
    "    version=1,\n",
    "    error_correction=qrcode.constants.ERROR_CORRECT_L,\n",
    "    box_size=10,\n",
    "    border=4,\n",
    ")\n",
    "qr.add_data(data_input)\n",
    "qr.make(fit=True)\n",
    "\n",
    "# QR 코드 이미지 생성\n",
    "img = qr.make_image(fill_color=\"black\", back_color=\"white\")\n",
    "\n",
    "# 이미지 저장\n",
    "img.save(f\"qrcode_{data_input}.png\")\n",
    "print(f\"QR 코드 이미지가 {data_input} 이름으로 저장되었습니다.\")"
   ]
  },
  {
   "cell_type": "code",
   "execution_count": 25,
   "metadata": {},
   "outputs": [],
   "source": [
    "import qrcode\n",
    "\n",
    "def myQrcodeMake(site, name):\n",
    "    for i in range(len(site)):\n",
    "        myQr = qrcode.make(site[i])\n",
    "        myQr.save(f\"c://data/result/{name[i]}.png\")\n",
    "\n",
    "sites = ['https://www.naver.com', 'https://www.daum.net']\n",
    "names = ['네이버', '다음']\n",
    "\n",
    "myQrcodeMake(sites, names)"
   ]
  },
  {
   "cell_type": "code",
   "execution_count": 26,
   "metadata": {},
   "outputs": [],
   "source": [
    "import qrcode\n",
    "\n",
    "def myQrcodeMake(**kwargs):\n",
    "    for name, site in kwargs.items():\n",
    "        myQr = qrcode.make(site)\n",
    "        myQr.save(f\"c://data/result/{name}.png\")\n",
    "\n",
    "sites_and_names = {\n",
    "    '네이버': 'https://www.naver.com',\n",
    "    '다음': 'https://www.daum.net'\n",
    "}\n",
    "\n",
    "myQrcodeMake(**sites_and_names)"
   ]
  }
 ],
 "metadata": {
  "kernelspec": {
   "display_name": "a",
   "language": "python",
   "name": "python3"
  },
  "language_info": {
   "codemirror_mode": {
    "name": "ipython",
    "version": 3
   },
   "file_extension": ".py",
   "mimetype": "text/x-python",
   "name": "python",
   "nbconvert_exporter": "python",
   "pygments_lexer": "ipython3",
   "version": "3.12.1"
  }
 },
 "nbformat": 4,
 "nbformat_minor": 2
}
