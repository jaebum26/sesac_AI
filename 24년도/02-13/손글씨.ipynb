{
  "nbformat": 4,
  "nbformat_minor": 0,
  "metadata": {
    "colab": {
      "provenance": []
    },
    "kernelspec": {
      "name": "python3",
      "display_name": "Python 3"
    },
    "language_info": {
      "name": "python"
    },
    "accelerator": "TPU"
  },
  "cells": [
    {
      "cell_type": "code",
      "source": [
        "import tensorflow as tf\n",
        "mnist = tf.keras.datasets.mnist"
      ],
      "metadata": {
        "id": "BEu8rHg0Pg1u"
      },
      "execution_count": 58,
      "outputs": []
    },
    {
      "cell_type": "code",
      "source": [
        "mnist = tf.keras.datasets.mnist\n",
        "(x_train, y_train), (x_test, y_test) = mnist.load_data()\n",
        "x_train, x_test = x_train / 255.0, x_test / 255.0"
      ],
      "metadata": {
        "id": "0EBijbNwPzQB"
      },
      "execution_count": 59,
      "outputs": []
    },
    {
      "cell_type": "code",
      "execution_count": 60,
      "metadata": {
        "colab": {
          "base_uri": "https://localhost:8080/",
          "height": 132
        },
        "id": "XNuIOvOhO_tq",
        "outputId": "639bab99-3711-4452-f134-40da47f0f506"
      },
      "outputs": [
        {
          "output_type": "stream",
          "name": "stdout",
          "text": [
            "[5 0 4 1 9 2 1 3 1 4]\n"
          ]
        },
        {
          "output_type": "display_data",
          "data": {
            "text/plain": [
              "<Figure size 640x480 with 1 Axes>"
            ],
            "image/png": "[encoded data removed]"
          },
          "metadata": {}
        }
      ],
      "source": [
        "import matplotlib.pyplot as plt\n",
        "import numpy as np\n",
        "\n",
        "img=np.hstack(x_train[:10])\n",
        "plt.imshow(img, cmap='gray')\n",
        "print(y_train[:10])"
      ]
    },
    {
      "cell_type": "code",
      "source": [
        "len(y_train), len(y_test), np.unique(y_train, return_counts=True)"
      ],
      "metadata": {
        "colab": {
          "base_uri": "https://localhost:8080/"
        },
        "id": "gAEy26HYRNMf",
        "outputId": "863edc25-358c-4969-c79d-a6827ac647a1"
      },
      "execution_count": 61,
      "outputs": [
        {
          "output_type": "execute_result",
          "data": {
            "text/plain": [
              "(60000,\n",
              " 10000,\n",
              " (array([0, 1, 2, 3, 4, 5, 6, 7, 8, 9], dtype=uint8),\n",
              "  array([5923, 6742, 5958, 6131, 5842, 5421, 5918, 6265, 5851, 5949])))"
            ]
          },
          "metadata": {},
          "execution_count": 61
        }
      ]
    },
    {
      "cell_type": "code",
      "source": [
        "# 추가코드  28행, 28열의 흑백이미지 60000장\n",
        "np.shape(x_train), np.shape(x_test)"
      ],
      "metadata": {
        "colab": {
          "base_uri": "https://localhost:8080/"
        },
        "id": "quM2aI0XRRpi",
        "outputId": "d8c81169-f14e-4f11-9378-e7d8df9f6b53"
      },
      "execution_count": 62,
      "outputs": [
        {
          "output_type": "execute_result",
          "data": {
            "text/plain": [
              "((60000, 28, 28), (10000, 28, 28))"
            ]
          },
          "metadata": {},
          "execution_count": 62
        }
      ]
    },
    {
      "cell_type": "code",
      "source": [
        "#################\n",
        "## x,y 데이터 훈련, 테스트로 나누어진 데이터를 array로 받음\n",
        "## 사진데이터를 로드, 사이즈 통일, array로 하고 레이블 변환x\n",
        "## 지도학습, 사진을 넣으면 0,1,2,3,4,5,6,7,8,9의 10개 중 어떤 카테고리인가를 맞추는\n",
        "## 다항분류 문제, 이 다항문제는 무조건 원핫인코딩되어 있거나\n",
        "## 아니면 모델에서 원핫인코딩 시켜야 함\n",
        "## 원핫인코딩 : 0은 [1,0,0,0,0,0,0,0,0,0]\n",
        "##              9는 [0,0,0,0,0,0,0,0,0,1]\n",
        "#################"
      ],
      "metadata": {
        "id": "CSNNz6W8RZ5Y"
      },
      "execution_count": 63,
      "outputs": []
    },
    {
      "cell_type": "code",
      "source": [
        "######################\n",
        "## 샘플\n",
        "model = tf.keras.models.Sequential([\n",
        "        tf.keras.layers.Flatten(input_shape=(3,3)),\n",
        "        tf.keras.layers.Dense(5, activation='relu'),   # w(100)+b(1) 기본 101개\n",
        "        tf.keras.layers.Dense(2, activation='softmax')  # softmax는 다항분류 계산식(활성화함수)\n",
        "])\n",
        "model.weights"
      ],
      "metadata": {
        "colab": {
          "base_uri": "https://localhost:8080/"
        },
        "id": "yjrZR-IBbpvS",
        "outputId": "c9839405-65dc-4a34-eae0-126ffddf7d4f"
      },
      "execution_count": 64,
      "outputs": [
        {
          "output_type": "execute_result",
          "data": {
            "text/plain": [
              "[<tf.Variable 'dense_18/kernel:0' shape=(9, 5) dtype=float32, numpy=\n",
              " array([[ 0.23734623, -0.22609153, -0.22058466,  0.60495734, -0.13588917],\n",
              "        [ 0.323201  ,  0.49102163, -0.42863488,  0.30098104,  0.09262991],\n",
              "        [-0.62945116,  0.03800648, -0.42611557,  0.32575554, -0.02184457],\n",
              "        [-0.20267805,  0.19985205, -0.51778746, -0.5042973 , -0.45366427],\n",
              "        [ 0.11079907,  0.48101115,  0.21543336, -0.14910036, -0.23655337],\n",
              "        [-0.574247  , -0.5093364 , -0.49739176, -0.00502491,  0.22758102],\n",
              "        [-0.45560578,  0.40325022, -0.3886293 ,  0.4495169 , -0.607058  ],\n",
              "        [-0.33907914, -0.20544365,  0.24466568, -0.57019305, -0.62685865],\n",
              "        [-0.37089467, -0.20792443,  0.6166153 , -0.02066129, -0.38869843]],\n",
              "       dtype=float32)>,\n",
              " <tf.Variable 'dense_18/bias:0' shape=(5,) dtype=float32, numpy=array([0., 0., 0., 0., 0.], dtype=float32)>,\n",
              " <tf.Variable 'dense_19/kernel:0' shape=(5, 2) dtype=float32, numpy=\n",
              " array([[-0.6399823 , -0.04668146],\n",
              "        [-0.8041591 , -0.3451432 ],\n",
              "        [-0.1606369 ,  0.6244217 ],\n",
              "        [-0.6322041 , -0.19194716],\n",
              "        [-0.07464957, -0.05588335]], dtype=float32)>,\n",
              " <tf.Variable 'dense_19/bias:0' shape=(2,) dtype=float32, numpy=array([0., 0.], dtype=float32)>]"
            ]
          },
          "metadata": {},
          "execution_count": 64
        }
      ]
    },
    {
      "cell_type": "code",
      "source": [
        "model = tf.keras.models.Sequential([\n",
        "  tf.keras.layers.Flatten(input_shape=(28, 28)),\n",
        "  tf.keras.layers.Dense(100, activation='relu'),\n",
        "  # tf.keras.layers.Dropout(0.2),\n",
        "  tf.keras.layers.Dense(10, activation='softmax') # softmax는 다항분류 계산식(활성화함수)\n",
        "])\n",
        "\n",
        "# softmax는 categorical_crossentropy인데\n",
        "# y입력값이 원핫인코딩 안되어 있으면 sparse_categorical_crossentropy라고 지정하면\n",
        "# 알아서 원핫인코딩함\n",
        "model.compile(optimizer='adam',\n",
        "              loss='sparse_categorical_crossentropy',\n",
        "              metrics=['accuracy'])"
      ],
      "metadata": {
        "id": "G9lIWZuNSsJG"
      },
      "execution_count": 65,
      "outputs": []
    },
    {
      "cell_type": "code",
      "source": [
        "# model.summary()\n",
        "hist=model.fit(x_train,y_train,epochs=50,\n",
        "          validation_data=(x_train,y_train),batch_size=100)"
      ],
      "metadata": {
        "colab": {
          "base_uri": "https://localhost:8080/"
        },
        "id": "zVAL-MomTuC6",
        "outputId": "cabdbfea-b789-469f-ad3b-3be085c09192"
      },
      "execution_count": 66,
      "outputs": [
        {
          "output_type": "stream",
          "name": "stdout",
          "text": [
            "Epoch 1/50\n",
            "600/600 [==============================] - 8s 12ms/step - loss: 0.3569 - accuracy: 0.9024 - val_loss: 0.1980 - val_accuracy: 0.9460\n",
            "Epoch 2/50\n",
            "600/600 [==============================] - 4s 7ms/step - loss: 0.1670 - accuracy: 0.9525 - val_loss: 0.1303 - val_accuracy: 0.9630\n",
            "Epoch 3/50\n",
            "600/600 [==============================] - 6s 9ms/step - loss: 0.1197 - accuracy: 0.9657 - val_loss: 0.0978 - val_accuracy: 0.9721\n",
            "Epoch 4/50\n",
            "600/600 [==============================] - 4s 7ms/step - loss: 0.0934 - accuracy: 0.9726 - val_loss: 0.0727 - val_accuracy: 0.9795\n",
            "Epoch 5/50\n",
            "600/600 [==============================] - 4s 7ms/step - loss: 0.0755 - accuracy: 0.9779 - val_loss: 0.0603 - val_accuracy: 0.9833\n",
            "Epoch 6/50\n",
            "600/600 [==============================] - 5s 9ms/step - loss: 0.0628 - accuracy: 0.9816 - val_loss: 0.0488 - val_accuracy: 0.9869\n",
            "Epoch 7/50\n",
            "600/600 [==============================] - 6s 10ms/step - loss: 0.0534 - accuracy: 0.9842 - val_loss: 0.0414 - val_accuracy: 0.9883\n",
            "Epoch 8/50\n",
            "600/600 [==============================] - 5s 9ms/step - loss: 0.0454 - accuracy: 0.9867 - val_loss: 0.0368 - val_accuracy: 0.9902\n",
            "Epoch 9/50\n",
            "600/600 [==============================] - 4s 6ms/step - loss: 0.0385 - accuracy: 0.9894 - val_loss: 0.0283 - val_accuracy: 0.9930\n",
            "Epoch 10/50\n",
            "600/600 [==============================] - 4s 7ms/step - loss: 0.0339 - accuracy: 0.9905 - val_loss: 0.0265 - val_accuracy: 0.9931\n",
            "Epoch 11/50\n",
            "600/600 [==============================] - 5s 9ms/step - loss: 0.0280 - accuracy: 0.9922 - val_loss: 0.0233 - val_accuracy: 0.9944\n",
            "Epoch 12/50\n",
            "600/600 [==============================] - 4s 7ms/step - loss: 0.0243 - accuracy: 0.9938 - val_loss: 0.0209 - val_accuracy: 0.9950\n",
            "Epoch 13/50\n",
            "600/600 [==============================] - 4s 7ms/step - loss: 0.0211 - accuracy: 0.9943 - val_loss: 0.0179 - val_accuracy: 0.9960\n",
            "Epoch 14/50\n",
            "600/600 [==============================] - 5s 9ms/step - loss: 0.0186 - accuracy: 0.9952 - val_loss: 0.0150 - val_accuracy: 0.9966\n",
            "Epoch 15/50\n",
            "600/600 [==============================] - 4s 7ms/step - loss: 0.0160 - accuracy: 0.9959 - val_loss: 0.0132 - val_accuracy: 0.9972\n",
            "Epoch 16/50\n",
            "600/600 [==============================] - 4s 7ms/step - loss: 0.0137 - accuracy: 0.9967 - val_loss: 0.0100 - val_accuracy: 0.9983\n",
            "Epoch 17/50\n",
            "600/600 [==============================] - 5s 9ms/step - loss: 0.0116 - accuracy: 0.9975 - val_loss: 0.0096 - val_accuracy: 0.9984\n",
            "Epoch 18/50\n",
            "600/600 [==============================] - 4s 7ms/step - loss: 0.0105 - accuracy: 0.9976 - val_loss: 0.0114 - val_accuracy: 0.9972\n",
            "Epoch 19/50\n",
            "600/600 [==============================] - 5s 9ms/step - loss: 0.0097 - accuracy: 0.9979 - val_loss: 0.0095 - val_accuracy: 0.9980\n",
            "Epoch 20/50\n",
            "600/600 [==============================] - 4s 7ms/step - loss: 0.0082 - accuracy: 0.9983 - val_loss: 0.0077 - val_accuracy: 0.9987\n",
            "Epoch 21/50\n",
            "600/600 [==============================] - 5s 8ms/step - loss: 0.0067 - accuracy: 0.9987 - val_loss: 0.0091 - val_accuracy: 0.9975\n",
            "Epoch 22/50\n",
            "600/600 [==============================] - 5s 9ms/step - loss: 0.0057 - accuracy: 0.9991 - val_loss: 0.0049 - val_accuracy: 0.9994\n",
            "Epoch 23/50\n",
            "600/600 [==============================] - 4s 7ms/step - loss: 0.0060 - accuracy: 0.9989 - val_loss: 0.0049 - val_accuracy: 0.9993\n",
            "Epoch 24/50\n",
            "600/600 [==============================] - 6s 10ms/step - loss: 0.0047 - accuracy: 0.9993 - val_loss: 0.0042 - val_accuracy: 0.9993\n",
            "Epoch 25/50\n",
            "600/600 [==============================] - 5s 8ms/step - loss: 0.0043 - accuracy: 0.9993 - val_loss: 0.0037 - val_accuracy: 0.9995\n",
            "Epoch 26/50\n",
            "600/600 [==============================] - 4s 7ms/step - loss: 0.0040 - accuracy: 0.9993 - val_loss: 0.0088 - val_accuracy: 0.9974\n",
            "Epoch 27/50\n",
            "600/600 [==============================] - 5s 9ms/step - loss: 0.0051 - accuracy: 0.9988 - val_loss: 0.0035 - val_accuracy: 0.9992\n",
            "Epoch 28/50\n",
            "600/600 [==============================] - 4s 7ms/step - loss: 0.0045 - accuracy: 0.9989 - val_loss: 0.0025 - val_accuracy: 0.9998\n",
            "Epoch 29/50\n",
            "600/600 [==============================] - 4s 7ms/step - loss: 0.0025 - accuracy: 0.9996 - val_loss: 0.0014 - val_accuracy: 0.9999\n",
            "Epoch 30/50\n",
            "600/600 [==============================] - 5s 9ms/step - loss: 0.0014 - accuracy: 0.9999 - val_loss: 0.0012 - val_accuracy: 1.0000\n",
            "Epoch 31/50\n",
            "600/600 [==============================] - 4s 7ms/step - loss: 0.0020 - accuracy: 0.9997 - val_loss: 0.0095 - val_accuracy: 0.9969\n",
            "Epoch 32/50\n",
            "600/600 [==============================] - 5s 9ms/step - loss: 0.0083 - accuracy: 0.9972 - val_loss: 0.0040 - val_accuracy: 0.9989\n",
            "Epoch 33/50\n",
            "600/600 [==============================] - 4s 7ms/step - loss: 0.0018 - accuracy: 0.9998 - val_loss: 8.9933e-04 - val_accuracy: 1.0000\n",
            "Epoch 34/50\n",
            "600/600 [==============================] - 4s 7ms/step - loss: 7.2579e-04 - accuracy: 1.0000 - val_loss: 4.9727e-04 - val_accuracy: 1.0000\n",
            "Epoch 35/50\n",
            "600/600 [==============================] - 5s 8ms/step - loss: 5.5334e-04 - accuracy: 1.0000 - val_loss: 4.9084e-04 - val_accuracy: 1.0000\n",
            "Epoch 36/50\n",
            "600/600 [==============================] - 4s 7ms/step - loss: 5.3818e-04 - accuracy: 1.0000 - val_loss: 4.9520e-04 - val_accuracy: 1.0000\n",
            "Epoch 37/50\n",
            "600/600 [==============================] - 4s 7ms/step - loss: 0.0088 - accuracy: 0.9971 - val_loss: 0.0029 - val_accuracy: 0.9993\n",
            "Epoch 38/50\n",
            "600/600 [==============================] - 5s 9ms/step - loss: 0.0017 - accuracy: 0.9997 - val_loss: 8.9753e-04 - val_accuracy: 1.0000\n",
            "Epoch 39/50\n",
            "600/600 [==============================] - 4s 7ms/step - loss: 5.8310e-04 - accuracy: 1.0000 - val_loss: 3.6054e-04 - val_accuracy: 1.0000\n",
            "Epoch 40/50\n",
            "600/600 [==============================] - 4s 7ms/step - loss: 3.7233e-04 - accuracy: 1.0000 - val_loss: 3.2000e-04 - val_accuracy: 1.0000\n",
            "Epoch 41/50\n",
            "600/600 [==============================] - 6s 9ms/step - loss: 3.1960e-04 - accuracy: 1.0000 - val_loss: 2.6608e-04 - val_accuracy: 1.0000\n",
            "Epoch 42/50\n",
            "600/600 [==============================] - 4s 7ms/step - loss: 2.8775e-04 - accuracy: 1.0000 - val_loss: 3.5387e-04 - val_accuracy: 1.0000\n",
            "Epoch 43/50\n",
            "600/600 [==============================] - 6s 10ms/step - loss: 2.8374e-04 - accuracy: 1.0000 - val_loss: 2.6864e-04 - val_accuracy: 1.0000\n",
            "Epoch 44/50\n",
            "600/600 [==============================] - 4s 7ms/step - loss: 0.0084 - accuracy: 0.9973 - val_loss: 0.0116 - val_accuracy: 0.9960\n",
            "Epoch 45/50\n",
            "600/600 [==============================] - 4s 7ms/step - loss: 0.0056 - accuracy: 0.9981 - val_loss: 0.0011 - val_accuracy: 0.9998\n",
            "Epoch 46/50\n",
            "600/600 [==============================] - 6s 9ms/step - loss: 6.1454e-04 - accuracy: 1.0000 - val_loss: 2.9587e-04 - val_accuracy: 1.0000\n",
            "Epoch 47/50\n",
            "600/600 [==============================] - 4s 7ms/step - loss: 2.8852e-04 - accuracy: 1.0000 - val_loss: 2.2574e-04 - val_accuracy: 1.0000\n",
            "Epoch 48/50\n",
            "600/600 [==============================] - 6s 9ms/step - loss: 2.2933e-04 - accuracy: 1.0000 - val_loss: 1.8861e-04 - val_accuracy: 1.0000\n",
            "Epoch 49/50\n",
            "600/600 [==============================] - 5s 8ms/step - loss: 1.9800e-04 - accuracy: 1.0000 - val_loss: 1.6144e-04 - val_accuracy: 1.0000\n",
            "Epoch 50/50\n",
            "600/600 [==============================] - 4s 7ms/step - loss: 1.7346e-04 - accuracy: 1.0000 - val_loss: 1.6088e-04 - val_accuracy: 1.0000\n"
          ]
        }
      ]
    },
    {
      "cell_type": "code",
      "source": [
        "model.save_weights('mnist_weights.h5')"
      ],
      "metadata": {
        "id": "buqAhIcgaz2A"
      },
      "execution_count": 67,
      "outputs": []
    },
    {
      "cell_type": "code",
      "source": [
        "# 손실 그래프 그리기\n",
        "plt.plot(hist.history['loss'], label='train_loss')\n",
        "plt.plot(hist.history['val_loss'], label='val_loss')\n",
        "plt.title('Training and Validation Loss')\n",
        "plt.xlabel('Epochs')\n",
        "plt.ylabel('Loss')\n",
        "plt.legend()\n",
        "\n",
        "# 정확도 그래프 그리기\n",
        "plt.plot(hist.history['accuracy'], label='train_accuracy')\n",
        "plt.plot(hist.history['val_accuracy'], label='val_accuracy')\n",
        "plt.title('Training and Validation Accuracy')\n",
        "plt.xlabel('Epochs')\n",
        "plt.ylabel('Accuracy')\n",
        "plt.legend()\n",
        "plt.show()"
      ],
      "metadata": {
        "colab": {
          "base_uri": "https://localhost:8080/",
          "height": 472
        },
        "id": "MPAYbzd7b4LG",
        "outputId": "41b056da-07c6-4a31-c297-a5a19344dc52"
      },
      "execution_count": 68,
      "outputs": [
        {
          "output_type": "display_data",
          "data": {
            "text/plain": [
              "<Figure size 640x480 with 1 Axes>"
            ],
            "image/png": "[encoded data removed]"
          },
          "metadata": {}
        }
      ]
    },
    {
      "cell_type": "code",
      "source": [
        "testDat=x_test[:30]\n",
        "print(np.shape(testData))  # 30,28,28   훈련데이터의 shape과 같음\n",
        "\n",
        "predictions=model([testData])\n",
        "result=tf.nn.softmax(predictions)\n",
        "result"
      ],
      "metadata": {
        "colab": {
          "base_uri": "https://localhost:8080/"
        },
        "id": "wEBU5cEqnQQ7",
        "outputId": "292d0757-300c-4f37-b996-2f00e2406fe1"
      },
      "execution_count": 103,
      "outputs": [
        {
          "output_type": "stream",
          "name": "stdout",
          "text": [
            "(30, 28, 28)\n"
          ]
        },
        {
          "output_type": "execute_result",
          "data": {
            "text/plain": [
              "<tf.Tensor: shape=(30, 10), dtype=float32, numpy=\n",
              "array([[0.08533674, 0.08533674, 0.08533674, 0.08533674, 0.08533674,\n",
              "        0.08533674, 0.08533674, 0.23196931, 0.08533674, 0.08533674],\n",
              "       [0.08533674, 0.08533674, 0.23196931, 0.08533674, 0.08533674,\n",
              "        0.08533674, 0.08533674, 0.08533674, 0.08533674, 0.08533674],\n",
              "       [0.08533679, 0.2319687 , 0.0853368 , 0.08533679, 0.08533679,\n",
              "        0.08533679, 0.08533679, 0.08533679, 0.08533704, 0.08533679],\n",
              "       [0.23196931, 0.08533674, 0.08533674, 0.08533674, 0.08533674,\n",
              "        0.08533674, 0.08533674, 0.08533674, 0.08533674, 0.08533674],\n",
              "       [0.0853368 , 0.0853368 , 0.0853368 , 0.0853368 , 0.23196831,\n",
              "        0.0853368 , 0.0853368 , 0.0853368 , 0.0853368 , 0.08533724],\n",
              "       [0.08533676, 0.23196904, 0.08533676, 0.08533676, 0.08533676,\n",
              "        0.08533676, 0.08533676, 0.08533687, 0.08533676, 0.08533676],\n",
              "       [0.08533674, 0.08533674, 0.08533674, 0.08533674, 0.23196927,\n",
              "        0.08533674, 0.08533674, 0.08533674, 0.08533674, 0.08533674],\n",
              "       [0.08533677, 0.08533677, 0.08533677, 0.08533677, 0.08533706,\n",
              "        0.08533677, 0.08533677, 0.08533677, 0.08533677, 0.23196866],\n",
              "       [0.08548415, 0.08548415, 0.08548415, 0.08548415, 0.08548415,\n",
              "        0.22961816, 0.08650804, 0.08548415, 0.08548472, 0.08548415],\n",
              "       [0.08533674, 0.08533674, 0.08533674, 0.08533674, 0.08533674,\n",
              "        0.08533674, 0.08533674, 0.08533674, 0.08533674, 0.23196931],\n",
              "       [0.23196931, 0.08533674, 0.08533674, 0.08533674, 0.08533674,\n",
              "        0.08533674, 0.08533674, 0.08533674, 0.08533674, 0.08533674],\n",
              "       [0.08533674, 0.08533674, 0.08533674, 0.08533674, 0.08533674,\n",
              "        0.08533674, 0.23196931, 0.08533674, 0.08533674, 0.08533674],\n",
              "       [0.08533674, 0.08533674, 0.08533674, 0.08533674, 0.08533674,\n",
              "        0.08533674, 0.08533674, 0.08533674, 0.08533674, 0.23196931],\n",
              "       [0.23196931, 0.08533674, 0.08533674, 0.08533674, 0.08533674,\n",
              "        0.08533674, 0.08533674, 0.08533674, 0.08533674, 0.08533674],\n",
              "       [0.08533674, 0.23196931, 0.08533674, 0.08533674, 0.08533674,\n",
              "        0.08533674, 0.08533674, 0.08533674, 0.08533674, 0.08533674],\n",
              "       [0.08533677, 0.08533677, 0.08533677, 0.08533687, 0.08533677,\n",
              "        0.23196909, 0.08533677, 0.08533677, 0.08533677, 0.08533677],\n",
              "       [0.08533674, 0.08533674, 0.08533674, 0.08533674, 0.08533674,\n",
              "        0.08533674, 0.08533674, 0.08533674, 0.08533674, 0.23196931],\n",
              "       [0.08533674, 0.08533674, 0.08533674, 0.08533674, 0.08533674,\n",
              "        0.08533674, 0.08533674, 0.23196927, 0.08533674, 0.08533674],\n",
              "       [0.08536941, 0.08536941, 0.08536953, 0.23145181, 0.08536942,\n",
              "        0.08536951, 0.08536941, 0.08536941, 0.08559278, 0.08536941],\n",
              "       [0.08533674, 0.08533674, 0.08533674, 0.08533674, 0.23196931,\n",
              "        0.08533674, 0.08533674, 0.08533674, 0.08533674, 0.08533674],\n",
              "       [0.08533753, 0.08533753, 0.08533753, 0.08533754, 0.08533754,\n",
              "        0.08533753, 0.08533753, 0.08534299, 0.08533753, 0.23195665],\n",
              "       [0.08533674, 0.08533674, 0.08533674, 0.08533674, 0.08533674,\n",
              "        0.08533674, 0.23196931, 0.08533674, 0.08533674, 0.08533674],\n",
              "       [0.08533674, 0.08533674, 0.08533674, 0.08533674, 0.08533674,\n",
              "        0.08533674, 0.23196931, 0.08533674, 0.08533674, 0.08533674],\n",
              "       [0.08533674, 0.08533674, 0.08533674, 0.08533674, 0.08533674,\n",
              "        0.23196931, 0.08533674, 0.08533674, 0.08533674, 0.08533674],\n",
              "       [0.08533683, 0.08533683, 0.08533683, 0.08533683, 0.23196796,\n",
              "        0.08533683, 0.08533683, 0.08533683, 0.08533683, 0.08533742],\n",
              "       [0.23196931, 0.08533674, 0.08533674, 0.08533674, 0.08533674,\n",
              "        0.08533674, 0.08533674, 0.08533674, 0.08533674, 0.08533674],\n",
              "       [0.08533674, 0.08533674, 0.08533674, 0.08533674, 0.08533674,\n",
              "        0.08533674, 0.08533674, 0.23196931, 0.08533674, 0.08533674],\n",
              "       [0.08533674, 0.08533674, 0.08533674, 0.08533674, 0.23196931,\n",
              "        0.08533674, 0.08533674, 0.08533674, 0.08533674, 0.08533674],\n",
              "       [0.23196931, 0.08533674, 0.08533674, 0.08533674, 0.08533674,\n",
              "        0.08533674, 0.08533674, 0.08533674, 0.08533674, 0.08533674],\n",
              "       [0.08533674, 0.2319693 , 0.08533674, 0.08533674, 0.08533675,\n",
              "        0.08533674, 0.08533674, 0.08533674, 0.08533675, 0.08533674]],\n",
              "      dtype=float32)>"
            ]
          },
          "metadata": {},
          "execution_count": 103
        }
      ]
    },
    {
      "cell_type": "code",
      "source": [
        "# 모델 저장\n",
        "model.save('/content/mnist_model.h5')\n",
        "\n",
        "# 모델 불러오기\n",
        "import tensorflow as tf\n",
        "model = tf.keras.models.load_model('/content/mnist_model.h5')"
      ],
      "metadata": {
        "id": "fu1f0IIej1eK"
      },
      "execution_count": 73,
      "outputs": []
    },
    {
      "cell_type": "code",
      "source": [
        "### 이미지 준비\n",
        "from PIL import Image\n",
        "img=Image.open('num6.jpg').resize((28,28)).convert('L')\n",
        "img=np.array(img);img=255-img; img=img/ 255.0\n",
        "print(np.shape(img))  # x_train의 shpae은 6000,28,28\n",
        "plt.imshow(img,cmap='gray')"
      ],
      "metadata": {
        "colab": {
          "base_uri": "https://localhost:8080/",
          "height": 467
        },
        "id": "u8y8RTZQl1zf",
        "outputId": "c676fa69-f28f-4671-a712-1ddb9dbb8016"
      },
      "execution_count": 104,
      "outputs": [
        {
          "output_type": "stream",
          "name": "stdout",
          "text": [
            "(28, 28)\n"
          ]
        },
        {
          "output_type": "execute_result",
          "data": {
            "text/plain": [
              "<matplotlib.image.AxesImage at 0x7b36789c9930>"
            ]
          },
          "metadata": {},
          "execution_count": 104
        },
        {
          "output_type": "display_data",
          "data": {
            "text/plain": [
              "<Figure size 640x480 with 1 Axes>"
            ],
            "image/png": "[encoded data removed]"
          },
          "metadata": {}
        }
      ]
    },
    {
      "cell_type": "code",
      "source": [
        "newimg=np.reshape(img,(1,28,28))  # 학습할때의 shpae이 6000,28,28  의 3차원 이기때문에\n",
        "model.predict(newimg)   # y값이 원핫인코딩이 되어서 들어간 자료는 이 작업으로 해서 가장 큰 값 위치"
      ],
      "metadata": {
        "colab": {
          "base_uri": "https://localhost:8080/"
        },
        "id": "xU401-_Ul-Os",
        "outputId": "1ae6063c-65f1-43e1-b157-34f905ef8d56"
      },
      "execution_count": 105,
      "outputs": [
        {
          "output_type": "stream",
          "name": "stdout",
          "text": [
            "1/1 [==============================] - 0s 31ms/step\n"
          ]
        },
        {
          "output_type": "execute_result",
          "data": {
            "text/plain": [
              "array([[4.19726557e-37, 1.78447809e-27, 1.08813504e-22, 4.75985057e-20,\n",
              "        0.00000000e+00, 1.00000000e+00, 3.77090111e-27, 3.80677073e-36,\n",
              "        1.54645695e-30, 9.02429749e-15]], dtype=float32)"
            ]
          },
          "metadata": {},
          "execution_count": 105
        }
      ]
    },
    {
      "cell_type": "code",
      "source": [
        "## y값을 원핫인코딩하지 않고 모델작업에서 loss에서\n",
        "# loss='sparse_categorical_crossentropy' 하면 tf.nn.sofrmax해야 해야함\n",
        "\n",
        "predictions=model(newimg)\n",
        "result=tf.nn.softmax(predictions)\n",
        "num=np.argmax(result)  #가장큰 위치값 구하기, 숫자값이 최종결과라 여기서 끝이지만,\n",
        "num"
      ],
      "metadata": {
        "colab": {
          "base_uri": "https://localhost:8080/"
        },
        "id": "TWADeX6nmCVb",
        "outputId": "3c3cb83b-cc7c-41ff-b6fc-a3b8dd48de5b"
      },
      "execution_count": 106,
      "outputs": [
        {
          "output_type": "execute_result",
          "data": {
            "text/plain": [
              "5"
            ]
          },
          "metadata": {},
          "execution_count": 106
        }
      ]
    },
    {
      "cell_type": "code",
      "source": [
        "### 만약 레이블이 따로 있다면\n",
        "class_num=['숫자0','숫자1','숫자2','숫자3','숫자4','숫자5','숫자6','숫자7','숫자8','숫자9']\n",
        "class_num[num]"
      ],
      "metadata": {
        "colab": {
          "base_uri": "https://localhost:8080/",
          "height": 35
        },
        "id": "y4oXoCAWmNCT",
        "outputId": "f6a3bee2-aec6-4b02-8957-ae5ca333e0a0"
      },
      "execution_count": 107,
      "outputs": [
        {
          "output_type": "execute_result",
          "data": {
            "text/plain": [
              "'숫자5'"
            ],
            "application/vnd.google.colaboratory.intrinsic+json": {
              "type": "string"
            }
          },
          "metadata": {},
          "execution_count": 107
        }
      ]
    }
  ]
}