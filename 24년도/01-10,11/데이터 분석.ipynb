{
 "cells": [
  {
   "cell_type": "code",
   "execution_count": 3,
   "metadata": {},
   "outputs": [
    {
     "name": "stdout",
     "output_type": "stream",
     "text": [
      "Requirement already satisfied: pandas in c:\\users\\blucom005\\miniconda3\\envs\\a\\lib\\site-packages (2.1.4)\n",
      "Requirement already satisfied: numpy<2,>=1.26.0 in c:\\users\\blucom005\\miniconda3\\envs\\a\\lib\\site-packages (from pandas) (1.26.3)\n",
      "Requirement already satisfied: python-dateutil>=2.8.2 in c:\\users\\blucom005\\miniconda3\\envs\\a\\lib\\site-packages (from pandas) (2.8.2)\n",
      "Requirement already satisfied: pytz>=2020.1 in c:\\users\\blucom005\\miniconda3\\envs\\a\\lib\\site-packages (from pandas) (2023.3.post1)\n",
      "Requirement already satisfied: tzdata>=2022.1 in c:\\users\\blucom005\\miniconda3\\envs\\a\\lib\\site-packages (from pandas) (2023.4)\n",
      "Requirement already satisfied: six>=1.5 in c:\\users\\blucom005\\miniconda3\\envs\\a\\lib\\site-packages (from python-dateutil>=2.8.2->pandas) (1.16.0)\n"
     ]
    }
   ],
   "source": [
    "!pip install pandas"
   ]
  },
  {
   "cell_type": "code",
   "execution_count": 4,
   "metadata": {},
   "outputs": [
    {
     "data": {
      "text/plain": [
       "'\\n윤경환, 성형석,\\n 김동현, 최재권,\\n 이재범, 주미현,\\n 윤도하, 황지의,\\n 이승환, 박호정,\\n 박주형, 백혜리,\\n 차혁주, 한다연,\\n 김동민, 이예림,\\n 박세웅, 장유미,\\n 우만경, 김태호,\\n 권용희, 유해성,\\n 최지욱, 김현우\\n'"
      ]
     },
     "execution_count": 4,
     "metadata": {},
     "output_type": "execute_result"
    }
   ],
   "source": [
    "data='''\n",
    "윤경환, 성형석,\n",
    " 김동현, 최재권,\n",
    " 이재범, 주미현,\n",
    " 윤도하, 황지의,\n",
    " 이승환, 박호정,\n",
    " 박주형, 백혜리,\n",
    " 차혁주, 한다연,\n",
    " 김동민, 이예림,\n",
    " 박세웅, 장유미,\n",
    " 우만경, 김태호,\n",
    " 권용희, 유해성,\n",
    " 최지욱, 김현우\n",
    "'''\n",
    "\n",
    "data"
   ]
  },
  {
   "cell_type": "markdown",
   "metadata": {},
   "source": [
    "    \\n 을 제거, ' '을 제거\n",
    "    제거 : 찾는 값, 바꿀 값이 ' '\n",
    "    한글과 쉼표를 제외한 나머지 값 제거"
   ]
  },
  {
   "cell_type": "code",
   "execution_count": 5,
   "metadata": {},
   "outputs": [
    {
     "name": "stdout",
     "output_type": "stream",
     "text": [
      "윤경환, 성형석, 김동현, 최재권, 이재범, 주미현, 윤도하, 황지의, 이승환, 박호정, 박주형, 백혜리, 차혁주, 한다연, 김동민, 이예림, 박세웅, 장유미, 우만경, 김태호, 권용희, 유해성, 최지욱, 김현우\n"
     ]
    }
   ],
   "source": [
    "import re\n",
    "\n",
    "def remove_non_korean_comma(text):\n",
    "    # 한글과 쉼표를 제외한 모든 문자를 제거하는 정규표현식\n",
    "    pattern = re.compile('[^가-힣, ]+')\n",
    "    \n",
    "    # 정규표현식을 사용하여 문자열에서 패턴에 맞는 부분을 제거\n",
    "    result = re.sub(pattern, '', text)\n",
    "    \n",
    "    return result\n",
    "\n",
    "# 테스트\n",
    "data = remove_non_korean_comma(data)\n",
    "print(data)\n",
    "\n",
    "data=data.split(',')"
   ]
  },
  {
   "cell_type": "code",
   "execution_count": 6,
   "metadata": {},
   "outputs": [
    {
     "data": {
      "text/plain": [
       "(['윤경환', ' 성형석', ' 김동현'], (24,))"
      ]
     },
     "execution_count": 6,
     "metadata": {},
     "output_type": "execute_result"
    }
   ],
   "source": [
    "import numpy as np\n",
    "\n",
    "data[:3],np.shape(data)"
   ]
  },
  {
   "cell_type": "code",
   "execution_count": 7,
   "metadata": {},
   "outputs": [
    {
     "data": {
      "text/plain": [
       "array([['윤경환', ' 성형석'],\n",
       "       [' 김동현', ' 최재권'],\n",
       "       [' 이재범', ' 주미현'],\n",
       "       [' 윤도하', ' 황지의'],\n",
       "       [' 이승환', ' 박호정'],\n",
       "       [' 박주형', ' 백혜리'],\n",
       "       [' 차혁주', ' 한다연'],\n",
       "       [' 김동민', ' 이예림'],\n",
       "       [' 박세웅', ' 장유미'],\n",
       "       [' 우만경', ' 김태호'],\n",
       "       [' 권용희', ' 유해성'],\n",
       "       [' 최지욱', ' 김현우']], dtype='<U4')"
      ]
     },
     "execution_count": 7,
     "metadata": {},
     "output_type": "execute_result"
    }
   ],
   "source": [
    "dataList=np.reshape(data,(-1,2))\n",
    "dataList"
   ]
  },
  {
   "cell_type": "code",
   "execution_count": 8,
   "metadata": {},
   "outputs": [
    {
     "data": {
      "text/plain": [
       "array([[ 1],\n",
       "       [ 2],\n",
       "       [ 3],\n",
       "       [ 4],\n",
       "       [ 5],\n",
       "       [ 6],\n",
       "       [ 7],\n",
       "       [ 8],\n",
       "       [ 9],\n",
       "       [10],\n",
       "       [11],\n",
       "       [12]])"
      ]
     },
     "execution_count": 8,
     "metadata": {},
     "output_type": "execute_result"
    }
   ],
   "source": [
    "bun=list(range(1,len(dataList)+1))\n",
    "bun=np.reshape(bun,(-1,1))\n",
    "bun"
   ]
  },
  {
   "cell_type": "code",
   "execution_count": 9,
   "metadata": {},
   "outputs": [
    {
     "data": {
      "text/plain": [
       "array([['1', '윤경환', ' 성형석'],\n",
       "       ['2', ' 김동현', ' 최재권'],\n",
       "       ['3', ' 이재범', ' 주미현'],\n",
       "       ['4', ' 윤도하', ' 황지의'],\n",
       "       ['5', ' 이승환', ' 박호정'],\n",
       "       ['6', ' 박주형', ' 백혜리'],\n",
       "       ['7', ' 차혁주', ' 한다연'],\n",
       "       ['8', ' 김동민', ' 이예림'],\n",
       "       ['9', ' 박세웅', ' 장유미'],\n",
       "       ['10', ' 우만경', ' 김태호'],\n",
       "       ['11', ' 권용희', ' 유해성'],\n",
       "       ['12', ' 최지욱', ' 김현우']], dtype='<U11')"
      ]
     },
     "execution_count": 9,
     "metadata": {},
     "output_type": "execute_result"
    }
   ],
   "source": [
    "result=np.hstack((bun,dataList))\n",
    "result"
   ]
  },
  {
   "cell_type": "code",
   "execution_count": 11,
   "metadata": {},
   "outputs": [
    {
     "data": {
      "text/plain": [
       "(pandas.core.frame.DataFrame, list)"
      ]
     },
     "execution_count": 11,
     "metadata": {},
     "output_type": "execute_result"
    }
   ],
   "source": [
    "import pandas as pd\n",
    "\n",
    "df=pd.DataFrame(result,columns=['번호','조원1','조원2'])\n",
    "시간=[5,5,5,10,105,5,5,3,10,3,5]\n",
    "type(df),type(시간)"
   ]
  }
 ],
 "metadata": {
  "kernelspec": {
   "display_name": "a",
   "language": "python",
   "name": "python3"
  },
  "language_info": {
   "codemirror_mode": {
    "name": "ipython",
    "version": 3
   },
   "file_extension": ".py",
   "mimetype": "text/x-python",
   "name": "python",
   "nbconvert_exporter": "python",
   "pygments_lexer": "ipython3",
   "version": "3.12.0"
  }
 },
 "nbformat": 4,
 "nbformat_minor": 2
}
