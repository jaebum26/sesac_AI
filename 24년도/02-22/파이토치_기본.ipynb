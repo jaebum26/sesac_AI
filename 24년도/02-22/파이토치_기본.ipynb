{
  "nbformat": 4,
  "nbformat_minor": 0,
  "metadata": {
    "colab": {
      "provenance": []
    },
    "kernelspec": {
      "name": "python3",
      "display_name": "Python 3"
    },
    "language_info": {
      "name": "python"
    }
  },
  "cells": [
    {
      "cell_type": "code",
      "execution_count": 1,
      "metadata": {
        "colab": {
          "base_uri": "https://localhost:8080/"
        },
        "id": "qZOPl696gmsQ",
        "outputId": "42812343-0f93-4939-ff24-fe8a47ddf7ff"
      },
      "outputs": [
        {
          "output_type": "stream",
          "name": "stdout",
          "text": [
            "<class 'torch.Tensor'>\n",
            "tensor(1)\n"
          ]
        },
        {
          "output_type": "execute_result",
          "data": {
            "text/plain": [
              "tensor([100,   2,   3,   4])"
            ]
          },
          "metadata": {},
          "execution_count": 1
        }
      ],
      "source": [
        "import torch\n",
        "import numpy as np\n",
        "\n",
        "vector = torch.tensor([1,2,3,4])\n",
        "print(type(vector)),print(vector[0])\n",
        "vector[0]=100\n",
        "vector"
      ]
    },
    {
      "cell_type": "code",
      "source": [
        "device = torch.device('cuda' if torch.cuda.is_available())\n",
        "print('현재 사용 중인 디바이스 :', device)"
      ],
      "metadata": {
        "id": "G5sB0Wjmg-YV"
      },
      "execution_count": null,
      "outputs": []
    },
    {
      "cell_type": "code",
      "source": [
        "import tensorflow as tf\n",
        "\n",
        "tensor = tf.constant([1,2,3])\n",
        "\n",
        "tensor = tf.Variable(tensor)\n",
        "tensor[0].assign(100)\n",
        "\n",
        "print(tensor.numpy())"
      ],
      "metadata": {
        "colab": {
          "base_uri": "https://localhost:8080/"
        },
        "id": "BSslx7-shd4U",
        "outputId": "a457cfea-421a-435f-ffc2-50d2db1017e8"
      },
      "execution_count": 2,
      "outputs": [
        {
          "output_type": "stream",
          "name": "stdout",
          "text": [
            "[100   2   3]\n"
          ]
        }
      ]
    },
    {
      "cell_type": "code",
      "source": [
        "tensor = tf.constant([1,2,499], dtype=tf.uint8)\n",
        "\n",
        "tensor = tf.Variable(tensor)\n",
        "tensor[0].assign(100)\n",
        "\n",
        "print(tensor.numpy())"
      ],
      "metadata": {
        "colab": {
          "base_uri": "https://localhost:8080/"
        },
        "id": "wkNE8XZdibrV",
        "outputId": "ff1ba6c2-152e-41b1-eb6e-59ef3066897a"
      },
      "execution_count": 6,
      "outputs": [
        {
          "output_type": "stream",
          "name": "stdout",
          "text": [
            "[100   2 243]\n"
          ]
        }
      ]
    },
    {
      "cell_type": "code",
      "source": [],
      "metadata": {
        "id": "O8sVEG2QumpG"
      },
      "execution_count": null,
      "outputs": []
    }
  ]
}