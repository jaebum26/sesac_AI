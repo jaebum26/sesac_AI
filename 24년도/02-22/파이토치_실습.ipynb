{
  "nbformat": 4,
  "nbformat_minor": 0,
  "metadata": {
    "colab": {
      "provenance": []
    },
    "kernelspec": {
      "name": "python3",
      "display_name": "Python 3"
    },
    "language_info": {
      "name": "python"
    }
  },
  "cells": [
    {
      "cell_type": "code",
      "source": [
        "#plot하고 torch 부딪힘 해결\n",
        "import os\n",
        "os.environ['KMP_DURLICATE_LIB_OK']='TRUE'"
      ],
      "metadata": {
        "id": "biS9SnRhzuaq"
      },
      "execution_count": 15,
      "outputs": []
    },
    {
      "cell_type": "code",
      "execution_count": 16,
      "metadata": {
        "id": "ln18F6Rkw69O"
      },
      "outputs": [],
      "source": [
        "import torch\n",
        "import torchvision\n",
        "import torchvision.transforms as transforms"
      ]
    },
    {
      "cell_type": "code",
      "source": [
        "transform = transforms.Compose(\n",
        "    [transforms.ToTensor(),\n",
        "     transforms.Normalize((0.5, 0.5, 0.5), (0.5, 0.5, 0.5))])\n",
        "\n",
        "batch_size = 4\n",
        "\n",
        "trainset = torchvision.datasets.CIFAR10(root='./data', train=True,\n",
        "                                        download=True, transform=transform)"
      ],
      "metadata": {
        "colab": {
          "base_uri": "https://localhost:8080/"
        },
        "id": "tGC0ilr5xDqT",
        "outputId": "62f11c4e-57ba-4f77-b840-05f9e111e463"
      },
      "execution_count": 17,
      "outputs": [
        {
          "output_type": "stream",
          "name": "stdout",
          "text": [
            "Files already downloaded and verified\n"
          ]
        }
      ]
    },
    {
      "cell_type": "code",
      "source": [
        "len(trainset), len(trainset[0]), len(trainset[0][0]) # trainset[0][0]"
      ],
      "metadata": {
        "colab": {
          "base_uri": "https://localhost:8080/"
        },
        "id": "rSFaHwUxx7BR",
        "outputId": "90085e95-9bec-4754-c2a0-6b4434e725b0"
      },
      "execution_count": 18,
      "outputs": [
        {
          "output_type": "execute_result",
          "data": {
            "text/plain": [
              "(50000, 2, 3)"
            ]
          },
          "metadata": {},
          "execution_count": 18
        }
      ]
    },
    {
      "cell_type": "code",
      "source": [
        "trainloader = torch.utils.data.DataLoader(trainset, batch_size=batch_size,\n",
        "                                          shuffle=True, num_workers=2)\n",
        "\n",
        "testset = torchvision.datasets.CIFAR10(root='./data', train=False,\n",
        "                                       download=True, transform=transform)\n",
        "testloader = torch.utils.data.DataLoader(testset, batch_size=batch_size,\n",
        "                                         shuffle=False, num_workers=2)\n",
        "\n",
        "classes = ('plane', 'car', 'bird', 'cat',\n",
        "           'deer', 'dog', 'frog', 'horse', 'ship', 'truck')"
      ],
      "metadata": {
        "colab": {
          "base_uri": "https://localhost:8080/"
        },
        "id": "KGCSCk4UzVOh",
        "outputId": "b439ebf4-ad14-4a07-cf28-f70e2d0df383"
      },
      "execution_count": 19,
      "outputs": [
        {
          "output_type": "stream",
          "name": "stdout",
          "text": [
            "Files already downloaded and verified\n"
          ]
        }
      ]
    },
    {
      "cell_type": "code",
      "source": [
        "import matplotlib.pyplot as plt\n",
        "import numpy as np\n",
        "\n",
        "# functions to show an image\n",
        "\n",
        "\n",
        "def imshow(img):\n",
        "    img = img / 2 + 0.5     # unnormalize\n",
        "    npimg = img.numpy()\n",
        "    plt.imshow(np.transpose(npimg, (1, 2, 0)))\n",
        "    plt.show()\n",
        "\n",
        "\n",
        "# get some random training images\n",
        "dataiter = iter(trainloader)\n",
        "images, labels = next(dataiter)\n",
        "\n",
        "# show images\n",
        "imshow(torchvision.utils.make_grid(images))\n",
        "# print labels\n",
        "print(' '.join(f'{classes[labels[j]]:5s}' for j in range(batch_size)))"
      ],
      "metadata": {
        "colab": {
          "base_uri": "https://localhost:8080/",
          "height": 211
        },
        "id": "tp41L-sv0TsA",
        "outputId": "75944c21-d1b2-4aa2-a162-d8eb4539124a"
      },
      "execution_count": 20,
      "outputs": [
        {
          "output_type": "display_data",
          "data": {
            "text/plain": [
              "<Figure size 640x480 with 1 Axes>"
            ],
            "image/png": "[encoded data removed]"
          },
          "metadata": {}
        },
        {
          "output_type": "stream",
          "name": "stdout",
          "text": [
            "car   truck frog  horse\n"
          ]
        }
      ]
    },
    {
      "cell_type": "code",
      "source": [
        "print(trainset)\n",
        "print('-'*100)\n",
        "print(testset)\n",
        "print('-'*100)"
      ],
      "metadata": {
        "colab": {
          "base_uri": "https://localhost:8080/"
        },
        "id": "ozSAiQOW0mgH",
        "outputId": "1a075165-f595-4047-b00e-675fe5f4c9c2"
      },
      "execution_count": 21,
      "outputs": [
        {
          "output_type": "stream",
          "name": "stdout",
          "text": [
            "Dataset CIFAR10\n",
            "    Number of datapoints: 50000\n",
            "    Root location: ./data\n",
            "    Split: Train\n",
            "    StandardTransform\n",
            "Transform: Compose(\n",
            "               ToTensor()\n",
            "               Normalize(mean=(0.5, 0.5, 0.5), std=(0.5, 0.5, 0.5))\n",
            "           )\n",
            "----------------------------------------------------------------------------------------------------\n",
            "Dataset CIFAR10\n",
            "    Number of datapoints: 10000\n",
            "    Root location: ./data\n",
            "    Split: Test\n",
            "    StandardTransform\n",
            "Transform: Compose(\n",
            "               ToTensor()\n",
            "               Normalize(mean=(0.5, 0.5, 0.5), std=(0.5, 0.5, 0.5))\n",
            "           )\n",
            "----------------------------------------------------------------------------------------------------\n"
          ]
        }
      ]
    },
    {
      "cell_type": "code",
      "source": [
        "## 1번 배치사이즈 자료 확인\n",
        "## 2개 : 이미지 + 라벨\n",
        "## 0번 자료는 이미지 : 4개 배치, 32*32*3\n",
        "## 1번 자료에는 라벨 4개\n",
        "\n",
        "first_batch = trainloader.__iter__().__next__()\n",
        "len(first_batch), first_batch[0].shape, first_batch[1].shape"
      ],
      "metadata": {
        "colab": {
          "base_uri": "https://localhost:8080/"
        },
        "id": "RnJueI5O1Sin",
        "outputId": "c61b0b05-3d63-4664-a1d0-7868aca02013"
      },
      "execution_count": 22,
      "outputs": [
        {
          "output_type": "execute_result",
          "data": {
            "text/plain": [
              "(2, torch.Size([4, 3, 32, 32]), torch.Size([4]))"
            ]
          },
          "metadata": {},
          "execution_count": 22
        }
      ]
    },
    {
      "cell_type": "code",
      "source": [
        "import torch.nn as nn\n",
        "import torch.nn.functional as F\n",
        "\n",
        "\n",
        "class Net(nn.Module):\n",
        "    def __init__(self):\n",
        "        super().__init__()    # 작업순서 1번\n",
        "        self.conv1 = nn.Conv2d(3, 6, 5)   # in 3, out 6, 커널 5, stride 1, padding O=valid --> 작업순서 2번 사용\n",
        "        self.pool = nn.MaxPool2d(2, 2)    # 작업순서 3번 사용\n",
        "        self.conv2 = nn.Conv2d(6, 16, 5)  # 작업순서 4번에 사용\n",
        "        self.fc1 = nn.Linear(16 * 5 * 5, 120) # conv2에서 out 16, 5*5인 in값, out 120개\n",
        "        self.fc2 = nn.Linear(120, 84)\n",
        "        self.fc3 = nn.Linear(84, 10)\n",
        "\n",
        "    def forward(self, x):\n",
        "        x = self.pool(F.relu(self.conv1(x)))  # 작업순서 2번 in채널 3, out채널 6인 5*5커널 제작, 스트라이드1, 패딩0\n",
        "        x = self.pool(F.relu(self.conv2(x)))  # 작업순서 3번 2번에서 받은 결과물 6채널, 28*28인 자료를 relu함수로 계산하고, pool하자\n",
        "        x = torch.flatten(x, 1) # flatten all dimensions except batch\n",
        "        x = F.relu(self.fc1(x))\n",
        "        x = F.relu(self.fc2(x))\n",
        "        x = self.fc3(x)   # 맨 마지막 outut은 무조건 클래스 개수와 일치(레이블개수, y레이블값의 유니크 개수, maxt숫자값)\n",
        "        return x\n",
        "\n",
        "\n",
        "net = Net()"
      ],
      "metadata": {
        "id": "A47JWM6SRRYS"
      },
      "execution_count": 25,
      "outputs": []
    },
    {
      "cell_type": "code",
      "source": [
        "### 참고용  view = np.reshape와 같음\n",
        "# x=torch.randn(4,4)\n",
        "# x.view(16), x.view(8,-1)"
      ],
      "metadata": {
        "colab": {
          "base_uri": "https://localhost:8080/"
        },
        "id": "om5lK1EDbe6X",
        "outputId": "f232bfcd-69c5-4597-a7be-cb2696eff3d9"
      },
      "execution_count": 32,
      "outputs": [
        {
          "output_type": "execute_result",
          "data": {
            "text/plain": [
              "(tensor([-0.1632,  0.3979, -1.1107,  0.4566, -1.2349, -0.7770, -0.4652,  0.3668,\n",
              "         -1.1861, -0.1104, -0.5497,  1.0145, -1.7763, -0.4323, -0.5649, -0.3763]),\n",
              " tensor([[-0.1632,  0.3979],\n",
              "         [-1.1107,  0.4566],\n",
              "         [-1.2349, -0.7770],\n",
              "         [-0.4652,  0.3668],\n",
              "         [-1.1861, -0.1104],\n",
              "         [-0.5497,  1.0145],\n",
              "         [-1.7763, -0.4323],\n",
              "         [-0.5649, -0.3763]]))"
            ]
          },
          "metadata": {},
          "execution_count": 32
        }
      ]
    },
    {
      "cell_type": "code",
      "source": [
        "print(net)"
      ],
      "metadata": {
        "colab": {
          "base_uri": "https://localhost:8080/"
        },
        "id": "bnsEdjk8RaWp",
        "outputId": "d9a0a835-a051-4509-f81b-7bd1b7c2a5f3"
      },
      "execution_count": 26,
      "outputs": [
        {
          "output_type": "stream",
          "name": "stdout",
          "text": [
            "Net(\n",
            "  (conv1): Conv2d(3, 6, kernel_size=(5, 5), stride=(1, 1))\n",
            "  (pool): MaxPool2d(kernel_size=2, stride=2, padding=0, dilation=1, ceil_mode=False)\n",
            "  (conv2): Conv2d(6, 16, kernel_size=(5, 5), stride=(1, 1))\n",
            "  (fc1): Linear(in_features=400, out_features=120, bias=True)\n",
            "  (fc2): Linear(in_features=120, out_features=84, bias=True)\n",
            "  (fc3): Linear(in_features=84, out_features=10, bias=True)\n",
            ")\n"
          ]
        }
      ]
    },
    {
      "cell_type": "code",
      "source": [
        "!pip install torchsummary"
      ],
      "metadata": {
        "colab": {
          "base_uri": "https://localhost:8080/"
        },
        "id": "EYEbqFz9S9Q5",
        "outputId": "c7b5a45d-5271-453f-ee0a-42b0941aaa37"
      },
      "execution_count": 27,
      "outputs": [
        {
          "output_type": "stream",
          "name": "stdout",
          "text": [
            "Requirement already satisfied: torchsummary in /usr/local/lib/python3.10/dist-packages (1.5.1)\n"
          ]
        }
      ]
    },
    {
      "cell_type": "code",
      "source": [
        "import torchsummary\n",
        "torchsummary.summary(net,(3,32,32)) # 파라미터 값 = ((커널사이즈(x*y)*in값) + bios(1))*out값"
      ],
      "metadata": {
        "colab": {
          "base_uri": "https://localhost:8080/"
        },
        "id": "EXcKMgQ5Uylu",
        "outputId": "f6f91556-e38f-45d4-c1e6-3692f989c88f"
      },
      "execution_count": 28,
      "outputs": [
        {
          "output_type": "stream",
          "name": "stdout",
          "text": [
            "----------------------------------------------------------------\n",
            "        Layer (type)               Output Shape         Param #\n",
            "================================================================\n",
            "            Conv2d-1            [-1, 6, 28, 28]             456\n",
            "         MaxPool2d-2            [-1, 6, 14, 14]               0\n",
            "            Conv2d-3           [-1, 16, 10, 10]           2,416\n",
            "         MaxPool2d-4             [-1, 16, 5, 5]               0\n",
            "            Linear-5                  [-1, 120]          48,120\n",
            "            Linear-6                   [-1, 84]          10,164\n",
            "            Linear-7                   [-1, 10]             850\n",
            "================================================================\n",
            "Total params: 62,006\n",
            "Trainable params: 62,006\n",
            "Non-trainable params: 0\n",
            "----------------------------------------------------------------\n",
            "Input size (MB): 0.01\n",
            "Forward/backward pass size (MB): 0.06\n",
            "Params size (MB): 0.24\n",
            "Estimated Total Size (MB): 0.31\n",
            "----------------------------------------------------------------\n"
          ]
        }
      ]
    },
    {
      "cell_type": "code",
      "source": [
        "imgArry=first_batch[0][0]\n",
        "np.shape(net.conv1(imgArry)), np.shape(net.pool(imgArry)), np.shape(net.conv2(net.pool(net.conv1(imgArry))))"
      ],
      "metadata": {
        "colab": {
          "base_uri": "https://localhost:8080/"
        },
        "id": "C9oDPUDrcNoN",
        "outputId": "7ed25e01-3cd3-4c62-b3d5-9729a5ff880b"
      },
      "execution_count": 35,
      "outputs": [
        {
          "output_type": "execute_result",
          "data": {
            "text/plain": [
              "(torch.Size([6, 28, 28]), torch.Size([3, 16, 16]), torch.Size([16, 10, 10]))"
            ]
          },
          "metadata": {},
          "execution_count": 35
        }
      ]
    },
    {
      "cell_type": "code",
      "source": [
        "tmp=net.pool(net.conv2(net.pool(net.conv1(imgArry))))\n",
        "tmp.size()"
      ],
      "metadata": {
        "colab": {
          "base_uri": "https://localhost:8080/"
        },
        "id": "XQT1KB79dNrE",
        "outputId": "d6d32afe-45c4-4454-ca54-3b8d0dc32d36"
      },
      "execution_count": 37,
      "outputs": [
        {
          "output_type": "execute_result",
          "data": {
            "text/plain": [
              "torch.Size([16, 5, 5])"
            ]
          },
          "metadata": {},
          "execution_count": 37
        }
      ]
    },
    {
      "cell_type": "code",
      "source": [
        "net.named_parameters()"
      ],
      "metadata": {
        "colab": {
          "base_uri": "https://localhost:8080/"
        },
        "id": "Kbk8UbHlnkW6",
        "outputId": "b0bfe6b9-7b26-4bad-8b83-f57e9d388aa6"
      },
      "execution_count": 38,
      "outputs": [
        {
          "output_type": "execute_result",
          "data": {
            "text/plain": [
              "<generator object Module.named_parameters at 0x7fd190246570>"
            ]
          },
          "metadata": {},
          "execution_count": 38
        }
      ]
    },
    {
      "cell_type": "code",
      "source": [
        "# 가중치와 편향 출력\n",
        "for name, param in net.named_parameters():\n",
        "    if param.requires_grad:\n",
        "        print(name, param.data)\n"
      ],
      "metadata": {
        "colab": {
          "base_uri": "https://localhost:8080/"
        },
        "id": "HsZ2GvB5nrfx",
        "outputId": "7f50884b-ab03-4105-fd69-b90cd2717449"
      },
      "execution_count": 39,
      "outputs": [
        {
          "output_type": "stream",
          "name": "stdout",
          "text": [
            "conv1.weight tensor([[[[ 0.0371,  0.0147, -0.0751,  0.0814,  0.0244],\n",
            "          [ 0.0019,  0.0066,  0.0890,  0.0578, -0.0386],\n",
            "          [-0.0644,  0.0218,  0.0355,  0.1030,  0.1051],\n",
            "          [ 0.0729,  0.0750,  0.0950, -0.0576,  0.0844],\n",
            "          [-0.0780,  0.0562, -0.0489, -0.1124, -0.0870]],\n",
            "\n",
            "         [[-0.0834, -0.0114,  0.0260,  0.0639,  0.0995],\n",
            "          [-0.0846,  0.0799,  0.0020, -0.0957, -0.0961],\n",
            "          [ 0.1137, -0.0659, -0.0222, -0.0834, -0.0509],\n",
            "          [-0.0975, -0.0775, -0.0630, -0.0278, -0.0435],\n",
            "          [-0.0450, -0.0950, -0.0033,  0.0171, -0.0237]],\n",
            "\n",
            "         [[-0.0272,  0.1130,  0.0976,  0.0752,  0.0854],\n",
            "          [-0.1090,  0.0373,  0.0055,  0.0494, -0.0657],\n",
            "          [ 0.0611,  0.0055,  0.0888, -0.0691, -0.0564],\n",
            "          [-0.0173, -0.0574,  0.0674, -0.1153,  0.0244],\n",
            "          [-0.0243, -0.0205,  0.0871,  0.0996, -0.0368]]],\n",
            "\n",
            "\n",
            "        [[[ 0.0407,  0.0570,  0.0563, -0.1071, -0.0316],\n",
            "          [ 0.0964, -0.0058, -0.0471, -0.0250,  0.0962],\n",
            "          [ 0.0393, -0.1154, -0.0374,  0.0098,  0.0496],\n",
            "          [-0.0555, -0.0936, -0.0609, -0.0220, -0.0155],\n",
            "          [-0.1028,  0.0860, -0.1020,  0.0742, -0.0422]],\n",
            "\n",
            "         [[ 0.1114, -0.0233,  0.0639,  0.0472, -0.0766],\n",
            "          [-0.0770,  0.0521, -0.0438,  0.0652,  0.0089],\n",
            "          [ 0.0677,  0.0838, -0.1066,  0.0747,  0.0243],\n",
            "          [ 0.0279, -0.0532, -0.0364, -0.0155, -0.0161],\n",
            "          [ 0.1151, -0.1073, -0.0989, -0.0111, -0.0542]],\n",
            "\n",
            "         [[ 0.0374,  0.0577, -0.0167,  0.0035, -0.0986],\n",
            "          [-0.0822, -0.0782,  0.0413, -0.1054,  0.0250],\n",
            "          [-0.0287, -0.0659,  0.0324, -0.0727,  0.0490],\n",
            "          [ 0.0508, -0.0375, -0.0137, -0.0616, -0.0154],\n",
            "          [-0.0201, -0.0338, -0.0803, -0.0401,  0.0287]]],\n",
            "\n",
            "\n",
            "        [[[ 0.0457,  0.0155, -0.0758,  0.0270,  0.1091],\n",
            "          [ 0.1097, -0.0801,  0.0732, -0.0787, -0.0547],\n",
            "          [ 0.0369,  0.1065, -0.0833, -0.0359, -0.0288],\n",
            "          [-0.1003, -0.0176,  0.0873,  0.0466, -0.1130],\n",
            "          [-0.0949,  0.1032,  0.0839, -0.0879, -0.0068]],\n",
            "\n",
            "         [[ 0.0678, -0.0841, -0.0025,  0.0430, -0.0200],\n",
            "          [-0.0523,  0.0418,  0.0377, -0.0535, -0.0893],\n",
            "          [-0.0080,  0.1068,  0.0570,  0.0766, -0.0687],\n",
            "          [ 0.0136,  0.0763, -0.0770,  0.0122,  0.0596],\n",
            "          [ 0.1055,  0.0667,  0.0123, -0.0748,  0.0549]],\n",
            "\n",
            "         [[-0.0897,  0.0392,  0.1003,  0.0678,  0.0372],\n",
            "          [ 0.0504, -0.0284,  0.0012,  0.0305, -0.0985],\n",
            "          [ 0.0653,  0.1039,  0.0288, -0.1039, -0.0987],\n",
            "          [-0.0078,  0.0983,  0.0381, -0.0517, -0.0378],\n",
            "          [ 0.0164, -0.1064,  0.0122,  0.0339,  0.0598]]],\n",
            "\n",
            "\n",
            "        [[[-0.0585,  0.0193, -0.0208, -0.0865,  0.0157],\n",
            "          [-0.0097,  0.0381, -0.0815,  0.0547, -0.1012],\n",
            "          [-0.0305,  0.0631,  0.0875, -0.0131,  0.1109],\n",
            "          [-0.0882,  0.1038,  0.1098, -0.0545,  0.1004],\n",
            "          [-0.0947,  0.0445, -0.0568,  0.0354, -0.0481]],\n",
            "\n",
            "         [[ 0.0257,  0.0263, -0.0001,  0.0191, -0.0587],\n",
            "          [-0.0053,  0.0342,  0.1155,  0.0342, -0.0707],\n",
            "          [-0.0246, -0.0612, -0.0825, -0.0827, -0.0640],\n",
            "          [-0.0892, -0.0974,  0.0460,  0.0566, -0.0321],\n",
            "          [-0.0555, -0.0987,  0.1086, -0.0981,  0.0011]],\n",
            "\n",
            "         [[ 0.0306,  0.0765,  0.0060,  0.0156,  0.0844],\n",
            "          [-0.1022,  0.0700, -0.0911,  0.0192,  0.0227],\n",
            "          [-0.0601,  0.0514, -0.0762,  0.1028,  0.0537],\n",
            "          [-0.1040, -0.0430, -0.0482,  0.0637,  0.0181],\n",
            "          [-0.0156, -0.0940,  0.0678, -0.0337,  0.0003]]],\n",
            "\n",
            "\n",
            "        [[[-0.0748,  0.0505,  0.0782, -0.0851,  0.0337],\n",
            "          [-0.0243,  0.1105, -0.0649,  0.0775,  0.0869],\n",
            "          [ 0.0478, -0.0242, -0.0201, -0.0772, -0.0102],\n",
            "          [-0.0128, -0.0984, -0.0962, -0.0429, -0.0119],\n",
            "          [-0.0067, -0.0178,  0.0699, -0.0526,  0.0837]],\n",
            "\n",
            "         [[ 0.0846,  0.0854,  0.0623,  0.0423,  0.0308],\n",
            "          [-0.0370,  0.0367, -0.0868, -0.0055,  0.0779],\n",
            "          [-0.0639,  0.0241,  0.0135, -0.1140, -0.0416],\n",
            "          [-0.0399,  0.0788, -0.1024, -0.0029,  0.0474],\n",
            "          [ 0.0965,  0.0512, -0.0289, -0.0061, -0.0391]],\n",
            "\n",
            "         [[-0.0397,  0.0415,  0.0374, -0.0937,  0.0147],\n",
            "          [-0.0993,  0.0721,  0.0282, -0.0694,  0.0152],\n",
            "          [-0.0795,  0.0198, -0.0205,  0.0365, -0.0776],\n",
            "          [-0.0698, -0.0504, -0.0034,  0.0207,  0.0797],\n",
            "          [-0.0374, -0.0183, -0.0228,  0.0419,  0.0858]]],\n",
            "\n",
            "\n",
            "        [[[ 0.0513,  0.0746,  0.1011, -0.0744, -0.0130],\n",
            "          [ 0.0921,  0.0323,  0.0310, -0.0170, -0.1047],\n",
            "          [ 0.0056,  0.0445, -0.0681, -0.0369, -0.0506],\n",
            "          [-0.0383,  0.0091,  0.0272, -0.1017,  0.0863],\n",
            "          [ 0.0029,  0.1132, -0.0934,  0.0296, -0.0754]],\n",
            "\n",
            "         [[-0.0943,  0.0168, -0.0896,  0.0302, -0.0563],\n",
            "          [ 0.0958,  0.0384,  0.0891, -0.0328,  0.0148],\n",
            "          [ 0.0756,  0.0739, -0.1132,  0.0501,  0.0065],\n",
            "          [ 0.0491, -0.0285, -0.0053, -0.1006,  0.0658],\n",
            "          [ 0.1080,  0.0881, -0.0188, -0.1153,  0.1000]],\n",
            "\n",
            "         [[-0.0848,  0.0812,  0.0322,  0.0159, -0.0758],\n",
            "          [ 0.0002,  0.0246, -0.0029,  0.0991,  0.0109],\n",
            "          [-0.0529, -0.0674, -0.0022, -0.0838, -0.0751],\n",
            "          [ 0.0042, -0.0393,  0.0391,  0.0562, -0.0760],\n",
            "          [-0.0157, -0.0485,  0.0047,  0.0555, -0.0743]]]])\n",
            "conv1.bias tensor([-0.0450, -0.0938, -0.1142,  0.0906,  0.0823, -0.0155])\n",
            "conv2.weight tensor([[[[-0.0502, -0.0170,  0.0546, -0.0149, -0.0450],\n",
            "          [-0.0694,  0.0195, -0.0421,  0.0729, -0.0051],\n",
            "          [ 0.0058,  0.0491, -0.0346,  0.0431, -0.0756],\n",
            "          [-0.0175,  0.0378, -0.0642,  0.0176, -0.0343],\n",
            "          [-0.0253,  0.0758, -0.0388,  0.0806,  0.0028]],\n",
            "\n",
            "         [[-0.0545, -0.0724,  0.0083, -0.0430, -0.0280],\n",
            "          [-0.0341,  0.0507,  0.0232, -0.0235, -0.0042],\n",
            "          [ 0.0664,  0.0018,  0.0624,  0.0791,  0.0218],\n",
            "          [-0.0503, -0.0225,  0.0039,  0.0628,  0.0281],\n",
            "          [-0.0473, -0.0416, -0.0351, -0.0535,  0.0759]],\n",
            "\n",
            "         [[ 0.0397,  0.0193,  0.0209,  0.0217, -0.0583],\n",
            "          [-0.0647,  0.0028, -0.0611,  0.0576, -0.0397],\n",
            "          [ 0.0347, -0.0248,  0.0371,  0.0390,  0.0777],\n",
            "          [ 0.0574, -0.0525, -0.0058,  0.0336, -0.0801],\n",
            "          [ 0.0107,  0.0607, -0.0089,  0.0555,  0.0035]],\n",
            "\n",
            "         [[ 0.0534, -0.0083,  0.0005,  0.0367, -0.0346],\n",
            "          [ 0.0512,  0.0587,  0.0288, -0.0108,  0.0458],\n",
            "          [ 0.0252,  0.0346, -0.0464, -0.0274,  0.0683],\n",
            "          [-0.0458, -0.0778, -0.0717, -0.0546,  0.0472],\n",
            "          [-0.0369, -0.0746, -0.0595, -0.0120,  0.0213]],\n",
            "\n",
            "         [[ 0.0518, -0.0518,  0.0519,  0.0419, -0.0223],\n",
            "          [-0.0415,  0.0415,  0.0021,  0.0562,  0.0365],\n",
            "          [ 0.0776,  0.0045,  0.0103, -0.0681, -0.0265],\n",
            "          [ 0.0189,  0.0755,  0.0444,  0.0295, -0.0736],\n",
            "          [ 0.0644,  0.0130,  0.0591, -0.0235,  0.0069]],\n",
            "\n",
            "         [[-0.0489, -0.0003, -0.0445, -0.0281, -0.0401],\n",
            "          [ 0.0505,  0.0486,  0.0011, -0.0452,  0.0473],\n",
            "          [-0.0502,  0.0641, -0.0602,  0.0755,  0.0450],\n",
            "          [ 0.0018, -0.0812,  0.0663, -0.0678, -0.0402],\n",
            "          [-0.0345,  0.0575,  0.0438, -0.0697, -0.0603]]],\n",
            "\n",
            "\n",
            "        [[[-0.0432, -0.0211,  0.0582, -0.0703, -0.0314],\n",
            "          [-0.0812,  0.0633, -0.0499,  0.0197,  0.0677],\n",
            "          [ 0.0095,  0.0804, -0.0048, -0.0262,  0.0281],\n",
            "          [-0.0307,  0.0779,  0.0309,  0.0484,  0.0802],\n",
            "          [ 0.0794,  0.0376,  0.0767,  0.0105,  0.0586]],\n",
            "\n",
            "         [[ 0.0368, -0.0171, -0.0213, -0.0137,  0.0632],\n",
            "          [ 0.0209,  0.0403,  0.0476, -0.0242, -0.0461],\n",
            "          [ 0.0592, -0.0729, -0.0554,  0.0045, -0.0188],\n",
            "          [ 0.0216, -0.0272,  0.0737, -0.0192,  0.0483],\n",
            "          [-0.0726,  0.0160, -0.0231, -0.0811, -0.0643]],\n",
            "\n",
            "         [[ 0.0504,  0.0212,  0.0810,  0.0798,  0.0326],\n",
            "          [-0.0765,  0.0170,  0.0543, -0.0803,  0.0696],\n",
            "          [-0.0182, -0.0417, -0.0521,  0.0728, -0.0339],\n",
            "          [-0.0264,  0.0462, -0.0033,  0.0343,  0.0077],\n",
            "          [-0.0498, -0.0278,  0.0570,  0.0314, -0.0025]],\n",
            "\n",
            "         [[ 0.0674, -0.0754,  0.0063,  0.0554,  0.0677],\n",
            "          [-0.0633,  0.0595,  0.0802,  0.0448,  0.0652],\n",
            "          [ 0.0246, -0.0235, -0.0471,  0.0406, -0.0236],\n",
            "          [-0.0105,  0.0494, -0.0335, -0.0646, -0.0714],\n",
            "          [-0.0313, -0.0499, -0.0185,  0.0431, -0.0676]],\n",
            "\n",
            "         [[ 0.0279,  0.0198,  0.0076,  0.0261, -0.0317],\n",
            "          [ 0.0617, -0.0406,  0.0599, -0.0101,  0.0283],\n",
            "          [-0.0293, -0.0476,  0.0703, -0.0413,  0.0188],\n",
            "          [-0.0132, -0.0636,  0.0087,  0.0438,  0.0213],\n",
            "          [ 0.0713, -0.0381,  0.0534, -0.0194,  0.0540]],\n",
            "\n",
            "         [[-0.0487, -0.0221, -0.0128, -0.0402,  0.0065],\n",
            "          [-0.0433, -0.0339,  0.0249, -0.0229, -0.0312],\n",
            "          [ 0.0238,  0.0566,  0.0256, -0.0302,  0.0791],\n",
            "          [ 0.0165, -0.0299, -0.0425,  0.0238, -0.0554],\n",
            "          [ 0.0320,  0.0219,  0.0260,  0.0463, -0.0222]]],\n",
            "\n",
            "\n",
            "        [[[-0.0044,  0.0505, -0.0409,  0.0458,  0.0426],\n",
            "          [ 0.0371,  0.0436, -0.0673,  0.0372,  0.0816],\n",
            "          [ 0.0431,  0.0607, -0.0749, -0.0770,  0.0386],\n",
            "          [ 0.0072,  0.0094, -0.0270,  0.0258,  0.0658],\n",
            "          [-0.0186, -0.0534, -0.0773, -0.0665, -0.0490]],\n",
            "\n",
            "         [[-0.0084, -0.0231, -0.0137,  0.0249,  0.0658],\n",
            "          [-0.0170, -0.0417,  0.0409,  0.0538, -0.0461],\n",
            "          [-0.0257, -0.0361, -0.0814, -0.0504,  0.0201],\n",
            "          [ 0.0583, -0.0363, -0.0774, -0.0119, -0.0755],\n",
            "          [ 0.0745, -0.0116, -0.0404, -0.0512, -0.0566]],\n",
            "\n",
            "         [[ 0.0397,  0.0231, -0.0627,  0.0245, -0.0459],\n",
            "          [-0.0766,  0.0035, -0.0672,  0.0253, -0.0070],\n",
            "          [-0.0262, -0.0527,  0.0816,  0.0519,  0.0323],\n",
            "          [-0.0542, -0.0098,  0.0816,  0.0367,  0.0363],\n",
            "          [-0.0040, -0.0492,  0.0533,  0.0213, -0.0058]],\n",
            "\n",
            "         [[-0.0605, -0.0092, -0.0638, -0.0269, -0.0581],\n",
            "          [-0.0210, -0.0413, -0.0055,  0.0014,  0.0131],\n",
            "          [-0.0744,  0.0596,  0.0258,  0.0484,  0.0641],\n",
            "          [-0.0090,  0.0318, -0.0641, -0.0042,  0.0573],\n",
            "          [-0.0761, -0.0120, -0.0728,  0.0812, -0.0611]],\n",
            "\n",
            "         [[ 0.0445, -0.0732, -0.0694, -0.0700, -0.0180],\n",
            "          [-0.0480, -0.0223,  0.0145, -0.0194, -0.0598],\n",
            "          [ 0.0811,  0.0641, -0.0732,  0.0647, -0.0632],\n",
            "          [-0.0524,  0.0563, -0.0432, -0.0592, -0.0035],\n",
            "          [-0.0557,  0.0792, -0.0690, -0.0801, -0.0291]],\n",
            "\n",
            "         [[ 0.0545,  0.0165, -0.0228, -0.0412, -0.0305],\n",
            "          [-0.0588,  0.0753,  0.0347, -0.0331, -0.0752],\n",
            "          [ 0.0560, -0.0592, -0.0268, -0.0631, -0.0799],\n",
            "          [-0.0228, -0.0805, -0.0570,  0.0073, -0.0181],\n",
            "          [ 0.0346,  0.0160,  0.0180, -0.0202,  0.0370]]],\n",
            "\n",
            "\n",
            "        ...,\n",
            "\n",
            "\n",
            "        [[[ 0.0585, -0.0569, -0.0752, -0.0405,  0.0119],\n",
            "          [ 0.0404, -0.0625, -0.0706,  0.0182, -0.0247],\n",
            "          [ 0.0096,  0.0619, -0.0753, -0.0751, -0.0479],\n",
            "          [-0.0652, -0.0260, -0.0478,  0.0745,  0.0705],\n",
            "          [-0.0439,  0.0726,  0.0092,  0.0684,  0.0029]],\n",
            "\n",
            "         [[-0.0106, -0.0237,  0.0566,  0.0803,  0.0780],\n",
            "          [ 0.0804, -0.0740, -0.0310,  0.0393,  0.0727],\n",
            "          [ 0.0165, -0.0776,  0.0174,  0.0181,  0.0615],\n",
            "          [ 0.0553,  0.0412,  0.0286,  0.0448, -0.0447],\n",
            "          [-0.0410,  0.0099, -0.0748, -0.0383, -0.0131]],\n",
            "\n",
            "         [[ 0.0707,  0.0169,  0.0635, -0.0492,  0.0634],\n",
            "          [-0.0139,  0.0637, -0.0166, -0.0563, -0.0054],\n",
            "          [-0.0165, -0.0216, -0.0379, -0.0240,  0.0461],\n",
            "          [-0.0157, -0.0526,  0.0270,  0.0543,  0.0713],\n",
            "          [ 0.0759, -0.0804, -0.0614, -0.0471, -0.0078]],\n",
            "\n",
            "         [[ 0.0646,  0.0534,  0.0009, -0.0418,  0.0285],\n",
            "          [ 0.0719,  0.0528,  0.0216, -0.0816, -0.0292],\n",
            "          [ 0.0695, -0.0600, -0.0664,  0.0720,  0.0270],\n",
            "          [-0.0287,  0.0009, -0.0794,  0.0654, -0.0150],\n",
            "          [-0.0161,  0.0254, -0.0260, -0.0814,  0.0736]],\n",
            "\n",
            "         [[ 0.0086, -0.0298,  0.0108,  0.0242,  0.0518],\n",
            "          [ 0.0086,  0.0694, -0.0316,  0.0040, -0.0452],\n",
            "          [-0.0397,  0.0647, -0.0078,  0.0380,  0.0029],\n",
            "          [ 0.0338, -0.0625,  0.0468, -0.0366,  0.0100],\n",
            "          [ 0.0618,  0.0430, -0.0541, -0.0143,  0.0325]],\n",
            "\n",
            "         [[-0.0197,  0.0463,  0.0383,  0.0385, -0.0201],\n",
            "          [ 0.0663, -0.0160, -0.0186, -0.0643, -0.0287],\n",
            "          [ 0.0499, -0.0680, -0.0199, -0.0002, -0.0610],\n",
            "          [ 0.0529,  0.0011, -0.0680,  0.0294,  0.0515],\n",
            "          [ 0.0705,  0.0794, -0.0063,  0.0173, -0.0438]]],\n",
            "\n",
            "\n",
            "        [[[-0.0734, -0.0562, -0.0493,  0.0263, -0.0075],\n",
            "          [ 0.0699,  0.0236, -0.0557, -0.0373,  0.0017],\n",
            "          [-0.0304, -0.0203,  0.0014, -0.0680,  0.0769],\n",
            "          [-0.0088, -0.0560,  0.0646,  0.0553, -0.0471],\n",
            "          [ 0.0317,  0.0565,  0.0093,  0.0589, -0.0370]],\n",
            "\n",
            "         [[-0.0752,  0.0408,  0.0112,  0.0218,  0.0715],\n",
            "          [-0.0322, -0.0444,  0.0507,  0.0046,  0.0338],\n",
            "          [-0.0577,  0.0143, -0.0510,  0.0338, -0.0472],\n",
            "          [-0.0535, -0.0778,  0.0142,  0.0648,  0.0273],\n",
            "          [ 0.0315, -0.0358,  0.0621,  0.0316, -0.0541]],\n",
            "\n",
            "         [[-0.0427,  0.0653, -0.0184,  0.0476, -0.0053],\n",
            "          [ 0.0791,  0.0596,  0.0516,  0.0040, -0.0169],\n",
            "          [-0.0170, -0.0031,  0.0236, -0.0048,  0.0380],\n",
            "          [ 0.0156,  0.0620, -0.0758,  0.0090,  0.0194],\n",
            "          [-0.0088,  0.0402,  0.0569,  0.0690, -0.0742]],\n",
            "\n",
            "         [[-0.0331, -0.0111, -0.0414,  0.0292, -0.0287],\n",
            "          [ 0.0714,  0.0263, -0.0412, -0.0302,  0.0362],\n",
            "          [ 0.0092, -0.0737, -0.0411,  0.0046,  0.0471],\n",
            "          [-0.0492, -0.0002,  0.0568,  0.0417, -0.0247],\n",
            "          [ 0.0601, -0.0570,  0.0673,  0.0815,  0.0381]],\n",
            "\n",
            "         [[-0.0028,  0.0030, -0.0079,  0.0691,  0.0269],\n",
            "          [ 0.0299, -0.0031, -0.0750,  0.0590,  0.0302],\n",
            "          [ 0.0507, -0.0602,  0.0078,  0.0607,  0.0130],\n",
            "          [ 0.0249, -0.0638, -0.0164,  0.0116, -0.0441],\n",
            "          [-0.0014, -0.0438, -0.0018,  0.0752, -0.0575]],\n",
            "\n",
            "         [[-0.0012, -0.0041,  0.0667, -0.0788, -0.0454],\n",
            "          [-0.0658, -0.0290, -0.0682,  0.0589, -0.0749],\n",
            "          [-0.0440,  0.0330,  0.0015, -0.0165, -0.0694],\n",
            "          [-0.0437,  0.0083, -0.0316, -0.0553, -0.0013],\n",
            "          [-0.0686, -0.0711,  0.0102, -0.0245,  0.0467]]],\n",
            "\n",
            "\n",
            "        [[[-0.0259,  0.0392,  0.0147, -0.0748, -0.0580],\n",
            "          [-0.0471, -0.0404, -0.0034,  0.0757,  0.0190],\n",
            "          [-0.0094,  0.0644, -0.0366,  0.0040,  0.0296],\n",
            "          [-0.0312, -0.0107, -0.0546, -0.0166,  0.0489],\n",
            "          [-0.0718, -0.0392, -0.0162, -0.0778,  0.0524]],\n",
            "\n",
            "         [[-0.0351, -0.0756,  0.0185,  0.0463, -0.0524],\n",
            "          [-0.0674, -0.0207,  0.0521,  0.0367,  0.0752],\n",
            "          [ 0.0511,  0.0570,  0.0444, -0.0635, -0.0106],\n",
            "          [-0.0293, -0.0430,  0.0172, -0.0086,  0.0266],\n",
            "          [-0.0384,  0.0351,  0.0046, -0.0054,  0.0658]],\n",
            "\n",
            "         [[ 0.0081,  0.0468, -0.0210, -0.0183,  0.0268],\n",
            "          [-0.0620,  0.0695,  0.0451, -0.0271, -0.0155],\n",
            "          [-0.0814,  0.0318, -0.0402, -0.0803, -0.0437],\n",
            "          [ 0.0026, -0.0637, -0.0338,  0.0438, -0.0436],\n",
            "          [ 0.0665,  0.0480,  0.0276,  0.0482, -0.0335]],\n",
            "\n",
            "         [[ 0.0228, -0.0288, -0.0735,  0.0254,  0.0718],\n",
            "          [ 0.0752, -0.0490, -0.0599,  0.0016, -0.0720],\n",
            "          [ 0.0136,  0.0342, -0.0266,  0.0594, -0.0628],\n",
            "          [ 0.0100,  0.0748,  0.0138, -0.0573, -0.0060],\n",
            "          [ 0.0735,  0.0810, -0.0529,  0.0115, -0.0459]],\n",
            "\n",
            "         [[-0.0170,  0.0550, -0.0251,  0.0614, -0.0204],\n",
            "          [-0.0137,  0.0040, -0.0162,  0.0448, -0.0657],\n",
            "          [-0.0217, -0.0632, -0.0163,  0.0356, -0.0385],\n",
            "          [ 0.0474,  0.0083,  0.0652, -0.0169,  0.0522],\n",
            "          [ 0.0250, -0.0476, -0.0010, -0.0418, -0.0593]],\n",
            "\n",
            "         [[ 0.0747,  0.0653,  0.0087, -0.0180,  0.0530],\n",
            "          [-0.0607,  0.0071, -0.0050, -0.0704,  0.0544],\n",
            "          [ 0.0327,  0.0302,  0.0010,  0.0402, -0.0366],\n",
            "          [-0.0082, -0.0816, -0.0639, -0.0802,  0.0200],\n",
            "          [ 0.0721,  0.0246, -0.0658, -0.0209, -0.0150]]]])\n",
            "conv2.bias tensor([ 0.0077,  0.0801, -0.0333, -0.0689, -0.0187, -0.0240,  0.0251,  0.0341,\n",
            "         0.0146,  0.0768,  0.0109, -0.0429, -0.0641, -0.0504,  0.0272, -0.0793])\n",
            "fc1.weight tensor([[ 0.0211,  0.0117, -0.0262,  ...,  0.0492,  0.0268, -0.0439],\n",
            "        [ 0.0498, -0.0151, -0.0451,  ..., -0.0059, -0.0396,  0.0344],\n",
            "        [ 0.0431, -0.0076,  0.0440,  ...,  0.0488,  0.0269, -0.0357],\n",
            "        ...,\n",
            "        [ 0.0438,  0.0253,  0.0217,  ..., -0.0289, -0.0498,  0.0051],\n",
            "        [ 0.0350, -0.0380,  0.0356,  ...,  0.0104, -0.0382, -0.0427],\n",
            "        [ 0.0449, -0.0269,  0.0278,  ...,  0.0018, -0.0213,  0.0418]])\n",
            "fc1.bias tensor([-0.0094,  0.0104, -0.0077, -0.0004, -0.0024, -0.0361, -0.0041,  0.0337,\n",
            "        -0.0156, -0.0060, -0.0067,  0.0474,  0.0115, -0.0196, -0.0371,  0.0205,\n",
            "        -0.0151, -0.0258, -0.0301,  0.0084,  0.0213, -0.0203, -0.0012, -0.0464,\n",
            "         0.0053,  0.0215, -0.0066, -0.0445, -0.0164, -0.0165,  0.0451,  0.0333,\n",
            "         0.0016, -0.0484, -0.0379,  0.0328,  0.0100, -0.0362, -0.0233, -0.0446,\n",
            "         0.0119, -0.0226,  0.0233,  0.0048,  0.0100,  0.0344,  0.0411, -0.0433,\n",
            "        -0.0227,  0.0471,  0.0106,  0.0435,  0.0092,  0.0123, -0.0047, -0.0254,\n",
            "         0.0327, -0.0358,  0.0029,  0.0245, -0.0028,  0.0398, -0.0193,  0.0498,\n",
            "         0.0066,  0.0127,  0.0321,  0.0460, -0.0350,  0.0145,  0.0012,  0.0427,\n",
            "        -0.0451,  0.0248,  0.0332,  0.0032,  0.0217,  0.0370, -0.0459,  0.0013,\n",
            "        -0.0061, -0.0426, -0.0051, -0.0259,  0.0099, -0.0119, -0.0349,  0.0444,\n",
            "         0.0121, -0.0142,  0.0217,  0.0433, -0.0166, -0.0198,  0.0438, -0.0446,\n",
            "         0.0244,  0.0226, -0.0349, -0.0367, -0.0172, -0.0190, -0.0082,  0.0269,\n",
            "        -0.0268,  0.0499, -0.0435, -0.0055,  0.0429,  0.0034, -0.0022, -0.0469,\n",
            "        -0.0442,  0.0387, -0.0261,  0.0048, -0.0271, -0.0476, -0.0115,  0.0362])\n",
            "fc2.weight tensor([[-0.0723,  0.0547,  0.0116,  ..., -0.0460, -0.0203, -0.0873],\n",
            "        [-0.0718,  0.0786,  0.0170,  ...,  0.0099,  0.0682, -0.0553],\n",
            "        [ 0.0388, -0.0128, -0.0745,  ...,  0.0821,  0.0631,  0.0088],\n",
            "        ...,\n",
            "        [-0.0576, -0.0059, -0.0579,  ...,  0.0015,  0.0280, -0.0188],\n",
            "        [ 0.0336, -0.0517, -0.0493,  ..., -0.0819, -0.0255, -0.0890],\n",
            "        [ 0.0670,  0.0782,  0.0582,  ...,  0.0188,  0.0206, -0.0089]])\n",
            "fc2.bias tensor([ 4.5653e-02, -2.7169e-02, -4.4083e-02,  5.0513e-02, -7.8494e-02,\n",
            "        -3.8087e-02,  7.2149e-02,  4.4965e-02, -2.0268e-02,  8.8767e-02,\n",
            "        -7.1578e-02, -4.4622e-03,  5.4266e-02,  7.4652e-02, -6.9368e-02,\n",
            "        -2.3831e-02,  1.4966e-02, -6.8878e-02,  4.5203e-02, -8.1014e-02,\n",
            "        -8.1121e-02,  7.8377e-02,  1.3968e-02,  9.1270e-03,  9.0669e-02,\n",
            "        -7.2064e-02, -5.7435e-02,  6.3630e-03, -6.0317e-02, -5.9146e-02,\n",
            "         3.8969e-02, -4.2129e-03, -3.3628e-02,  6.3303e-02,  8.3632e-02,\n",
            "        -5.3104e-02,  4.3797e-02,  8.5893e-02, -8.3723e-02, -8.0028e-05,\n",
            "        -8.2233e-02,  3.5555e-02,  2.8739e-02,  8.9164e-02,  9.6632e-03,\n",
            "         2.6401e-02, -7.0202e-02, -4.6742e-03, -3.3530e-03,  7.1807e-02,\n",
            "        -2.1778e-02, -4.8127e-02, -3.0344e-02,  4.8366e-02,  4.0625e-02,\n",
            "        -4.6168e-02, -2.3994e-02,  5.8000e-02,  7.2579e-02, -4.9376e-02,\n",
            "         8.5074e-02, -2.5760e-03,  8.6473e-02, -5.2862e-02,  8.4551e-02,\n",
            "         4.3404e-04,  6.1965e-02, -4.7609e-02,  4.1617e-02,  4.5041e-02,\n",
            "        -7.1487e-02,  6.7808e-02, -6.2534e-02,  1.9625e-02, -1.6631e-03,\n",
            "         3.2621e-02,  4.2566e-03,  8.0791e-02,  4.7417e-02,  6.7888e-02,\n",
            "         7.9559e-02, -4.7676e-02, -2.5982e-02, -7.2419e-02])\n",
            "fc3.weight tensor([[ 8.0494e-02,  7.2373e-02, -3.7533e-02,  1.0568e-01,  2.3895e-02,\n",
            "          4.4253e-02,  1.0165e-01, -5.8618e-02, -8.4907e-02, -3.7162e-02,\n",
            "         -6.4389e-02, -1.0395e-01,  1.0733e-01, -7.7237e-02,  6.9762e-02,\n",
            "         -6.9309e-02,  3.4792e-02, -6.9561e-02,  5.5743e-02,  7.0866e-02,\n",
            "         -8.1069e-02, -3.6332e-02, -5.4949e-02,  5.1644e-04,  2.6797e-02,\n",
            "         -1.7098e-02, -2.2125e-02, -4.8130e-02, -3.6174e-02,  7.1012e-02,\n",
            "          1.1643e-02,  2.2091e-02, -5.2239e-02,  8.1174e-02, -5.7108e-02,\n",
            "          4.5333e-02,  7.8587e-02,  5.3424e-02,  1.0683e-01, -8.2482e-02,\n",
            "         -1.9317e-02, -2.8784e-03, -3.4858e-02,  1.0881e-01,  3.4085e-02,\n",
            "          6.7546e-02,  6.8113e-02,  1.4904e-02,  1.0486e-01, -3.9200e-02,\n",
            "          6.4959e-02,  5.2687e-02, -6.2483e-02, -4.7212e-02,  1.0115e-01,\n",
            "          3.2460e-02, -2.1623e-02, -3.9260e-02, -4.6041e-03,  7.8508e-02,\n",
            "          9.8605e-02,  8.8184e-02, -6.8640e-02,  2.2363e-02, -6.2238e-02,\n",
            "          9.1730e-04,  5.4157e-02, -8.8798e-02, -3.1385e-02, -5.1676e-02,\n",
            "          2.5126e-02, -5.4525e-02,  3.6877e-02, -2.6198e-02, -4.7742e-02,\n",
            "         -4.6500e-02,  9.1208e-02,  1.2156e-02,  5.1358e-02,  1.0152e-01,\n",
            "         -5.7783e-03,  5.3020e-03,  7.8911e-02,  9.4944e-02],\n",
            "        [ 8.3796e-02,  1.0464e-01,  2.3407e-02,  2.9313e-02, -2.9757e-03,\n",
            "          8.2215e-02,  6.4135e-02,  3.6025e-02, -7.0663e-02, -1.9483e-02,\n",
            "          4.2151e-02, -2.9603e-02,  6.2042e-02,  2.2915e-02,  2.0635e-02,\n",
            "          8.8859e-03,  8.6260e-02,  2.3316e-02,  3.2259e-02,  1.9373e-02,\n",
            "         -6.9421e-02,  3.6805e-02, -2.2244e-02, -5.8218e-02,  7.0399e-02,\n",
            "         -5.6758e-02,  9.9147e-02, -1.6941e-02, -3.2280e-03, -7.3557e-02,\n",
            "          8.7362e-03, -5.1848e-02, -3.9862e-03,  6.9813e-03,  5.9774e-03,\n",
            "         -3.3646e-02,  8.8385e-02, -7.1005e-02, -4.9053e-02,  7.6425e-03,\n",
            "          8.3002e-02,  7.7574e-02,  1.0868e-01,  1.0213e-01, -5.6004e-02,\n",
            "         -1.0478e-01,  4.6962e-02, -2.3856e-02,  1.6337e-02,  8.4048e-02,\n",
            "          6.5573e-02,  4.9655e-02,  7.6768e-02,  1.0076e-02,  7.7019e-02,\n",
            "          4.3080e-02, -1.9880e-02, -1.0450e-01, -4.5655e-02, -9.1557e-02,\n",
            "         -4.4307e-02, -5.7539e-02,  8.8574e-02,  8.3245e-02,  6.4407e-02,\n",
            "          5.4689e-02, -8.4700e-02,  3.3811e-03, -8.9727e-02, -2.9672e-02,\n",
            "          5.5342e-02, -8.6052e-02, -9.9028e-02, -5.6904e-02,  3.2162e-02,\n",
            "         -4.7298e-02,  1.4532e-02, -1.4026e-02, -8.1809e-02, -1.0566e-02,\n",
            "          1.7132e-02, -2.9106e-02, -4.7735e-02,  6.5069e-02],\n",
            "        [-9.5842e-02,  6.2785e-02,  3.8761e-02, -4.7579e-02, -1.0118e-01,\n",
            "         -6.1733e-02,  3.8633e-02,  5.5934e-02, -1.0053e-01,  8.0004e-02,\n",
            "         -1.0376e-01, -1.0492e-01, -7.6343e-02,  3.5525e-02, -5.4489e-02,\n",
            "          3.8518e-02,  1.1289e-02,  9.8266e-02, -1.0267e-01,  5.2340e-02,\n",
            "          8.7553e-02, -3.7329e-02, -6.7598e-02,  3.7150e-02, -3.3429e-02,\n",
            "         -9.0217e-02,  4.6086e-02,  6.9273e-02, -1.1905e-02,  1.6732e-02,\n",
            "         -8.5901e-02,  3.6697e-02,  8.2160e-02, -4.1864e-02,  1.2754e-02,\n",
            "         -8.2174e-02, -6.9849e-02, -3.1039e-02,  8.8012e-02,  4.6380e-03,\n",
            "         -9.8160e-02, -6.9715e-02,  9.1156e-02,  2.4815e-02,  3.5719e-02,\n",
            "         -4.9629e-02, -7.2126e-02,  6.7004e-02, -6.1391e-02, -7.0926e-02,\n",
            "         -1.2328e-02, -6.2073e-02, -7.3340e-02, -2.4951e-02,  7.5195e-02,\n",
            "          1.0795e-02, -2.1683e-02,  2.0720e-02, -7.6294e-02,  1.3436e-02,\n",
            "         -2.8469e-02, -4.7482e-02, -1.3857e-02,  2.9079e-02,  1.0139e-02,\n",
            "         -1.0907e-02,  4.2482e-02,  8.6427e-02, -5.5738e-02, -6.8154e-02,\n",
            "          7.7036e-02,  6.0919e-02,  7.0652e-02,  5.5322e-02,  2.5218e-02,\n",
            "          1.4846e-02,  4.1200e-02, -9.6440e-02,  5.0135e-02,  7.8001e-02,\n",
            "         -1.3155e-02, -9.2038e-02, -8.3478e-02, -3.6689e-02],\n",
            "        [ 1.1109e-02,  2.6579e-02, -3.5930e-02,  8.8379e-02, -5.7203e-02,\n",
            "         -3.3571e-02, -8.5514e-02,  2.0283e-02, -7.0066e-03, -1.0746e-01,\n",
            "         -2.0014e-02, -1.4606e-03,  4.2893e-02,  9.0376e-02,  7.2976e-02,\n",
            "         -4.7530e-02, -9.1493e-02,  3.1868e-02, -1.8062e-02,  7.5108e-02,\n",
            "          8.4370e-02, -9.8293e-02, -1.1361e-02, -7.8417e-02,  6.1290e-02,\n",
            "         -1.0644e-01,  9.0682e-02, -5.5932e-02, -2.7315e-02, -6.0652e-02,\n",
            "          8.6793e-02,  2.8794e-02,  8.9556e-02,  1.2104e-02, -6.1961e-02,\n",
            "          3.7752e-02,  4.3215e-02,  3.5530e-02,  8.7750e-02,  3.9990e-02,\n",
            "         -9.1878e-02,  7.1650e-02,  8.0476e-02,  9.5690e-03,  9.8539e-02,\n",
            "         -3.7135e-02, -8.9987e-02,  9.8210e-02, -9.8686e-02, -3.9529e-02,\n",
            "          6.8736e-02,  8.2533e-02, -3.2709e-02, -2.2635e-02, -5.9324e-02,\n",
            "         -1.7817e-02,  6.0259e-02, -1.4399e-02,  4.2232e-02,  4.0128e-02,\n",
            "         -9.6499e-02,  4.5311e-02, -1.6999e-02, -3.2950e-02,  8.6627e-02,\n",
            "          9.5902e-02, -5.3946e-02, -8.4132e-03, -7.5276e-02, -5.2386e-02,\n",
            "         -7.1670e-02,  8.0584e-02, -1.6086e-02,  1.0983e-02, -5.3347e-02,\n",
            "          1.0122e-01,  4.6773e-02, -1.2824e-02,  4.3315e-02,  5.6040e-02,\n",
            "          6.6748e-02, -7.8821e-02, -3.6436e-02, -3.8106e-02],\n",
            "        [-3.6499e-02,  4.8086e-02, -1.8311e-02,  8.4853e-02,  4.4137e-02,\n",
            "         -5.7838e-02, -6.8950e-03,  7.6902e-03,  1.0371e-01, -9.0269e-02,\n",
            "         -9.1778e-02, -6.4214e-03, -5.9217e-02, -1.0906e-01,  5.1866e-02,\n",
            "          1.0687e-01, -2.2595e-02, -4.2067e-02, -2.0904e-02,  2.6656e-02,\n",
            "          1.3485e-02,  8.7363e-03,  5.5256e-02,  6.2989e-03, -3.6993e-02,\n",
            "          9.9535e-02,  9.4665e-02,  4.6170e-02, -6.0910e-02, -3.5755e-03,\n",
            "          8.3309e-02,  7.6730e-02,  9.5051e-02, -1.8746e-02, -1.0755e-01,\n",
            "          6.4404e-02, -1.3567e-02,  7.6256e-02, -5.1345e-02,  9.4809e-02,\n",
            "         -4.6735e-02, -6.6126e-02,  9.5430e-03, -7.6821e-02,  7.1363e-02,\n",
            "          8.1641e-02, -3.6880e-02,  4.7978e-02, -7.8191e-02, -3.5931e-02,\n",
            "         -8.8775e-02, -2.7918e-02, -7.1702e-02, -8.8194e-02,  4.0724e-02,\n",
            "          4.9737e-02, -1.0343e-01,  3.7578e-02, -1.1142e-02, -3.3395e-02,\n",
            "         -5.7462e-02, -8.1465e-03,  6.2999e-02,  9.9118e-02,  8.8119e-02,\n",
            "         -6.2427e-02, -9.8654e-02,  9.9100e-02,  1.1103e-02, -8.3381e-02,\n",
            "          7.3738e-02, -6.3493e-02, -4.9681e-02, -9.0001e-02, -9.0198e-02,\n",
            "         -1.9695e-02, -2.1434e-03, -1.4597e-02, -4.7100e-02, -5.8351e-02,\n",
            "         -8.5018e-02,  5.5238e-02,  3.7954e-02, -9.0004e-02],\n",
            "        [-5.0964e-02, -1.9397e-02, -1.0479e-01, -6.7301e-02,  4.5729e-02,\n",
            "         -1.5394e-02,  1.0575e-01,  3.7029e-02, -9.1692e-02, -2.5094e-02,\n",
            "         -3.3724e-02, -4.1660e-02, -2.2886e-02, -3.7615e-02,  5.0897e-02,\n",
            "          1.3687e-02,  6.3964e-02,  3.9338e-02,  3.5817e-02,  1.0486e-01,\n",
            "         -3.8392e-02,  3.9928e-02,  7.5569e-02,  1.5813e-02,  6.8935e-02,\n",
            "          8.6828e-02, -6.1203e-02,  9.7377e-02, -5.5077e-02, -1.0477e-02,\n",
            "         -1.5810e-02,  8.6018e-02,  7.6275e-02, -1.8946e-03, -4.9058e-02,\n",
            "         -6.6692e-02,  2.7951e-02,  1.0865e-01,  8.8786e-02, -4.8774e-02,\n",
            "          6.1207e-03, -3.5189e-02,  2.7833e-02, -9.9155e-02, -7.9220e-02,\n",
            "         -9.9983e-02, -9.2016e-02,  2.2515e-03, -6.3112e-04, -1.3778e-03,\n",
            "          1.5039e-02, -9.5666e-02,  6.8070e-02, -5.2770e-02, -1.0237e-02,\n",
            "          2.6378e-02,  1.6279e-02, -8.1286e-03,  9.5174e-02, -8.8497e-02,\n",
            "          2.5461e-02, -1.8690e-02, -1.3661e-02,  5.6878e-02, -6.7171e-02,\n",
            "         -2.0545e-03,  3.4450e-02,  7.0958e-02, -2.3092e-02, -1.1377e-02,\n",
            "          6.7346e-02, -2.7631e-02,  3.0959e-02,  7.6913e-02, -1.0197e-01,\n",
            "         -2.0041e-02,  8.2369e-02, -4.8420e-02, -4.8184e-02, -4.0127e-02,\n",
            "          8.1939e-02, -1.4666e-02, -3.2447e-02,  2.7180e-03],\n",
            "        [ 7.5400e-02,  3.7745e-02, -6.8411e-02,  1.8580e-02,  6.2445e-02,\n",
            "          1.8154e-02,  8.1717e-02,  8.5931e-02,  1.0878e-01, -5.6315e-02,\n",
            "          2.9580e-02, -9.4894e-02,  7.9674e-02,  5.9118e-02,  8.3943e-02,\n",
            "         -9.8187e-02,  5.8271e-02,  1.6724e-02, -3.6842e-03,  4.8135e-03,\n",
            "         -8.8694e-03, -6.8597e-02,  2.1767e-02, -7.6663e-02, -9.0567e-02,\n",
            "          1.9670e-02,  4.8956e-02,  8.3239e-02, -1.0038e-01, -2.2540e-02,\n",
            "          7.1557e-02, -2.1851e-05, -5.5365e-02, -2.0339e-02, -5.1776e-02,\n",
            "          2.2717e-02,  6.2525e-02,  3.6213e-02,  9.4264e-02, -4.9178e-02,\n",
            "         -7.9957e-02,  3.9820e-03,  3.2189e-02,  1.5833e-02,  9.3197e-02,\n",
            "         -5.1811e-02, -6.0700e-03, -1.1718e-02,  4.9969e-02,  5.2279e-03,\n",
            "          6.9159e-02,  9.0551e-02,  1.6041e-02, -2.8290e-02,  7.1199e-02,\n",
            "         -7.2244e-02, -1.0172e-01,  1.0520e-01,  6.4586e-02, -4.2988e-02,\n",
            "         -8.3742e-02,  6.7779e-02, -5.0584e-02,  9.4384e-02,  7.7908e-02,\n",
            "         -2.1096e-02,  4.9839e-02,  5.1631e-02,  5.8037e-02, -3.2059e-02,\n",
            "         -6.0740e-02,  1.0214e-01, -7.0079e-03, -1.0584e-01, -1.4723e-02,\n",
            "         -5.6933e-02,  8.8635e-03,  9.7643e-02,  9.3108e-02,  5.4717e-02,\n",
            "          4.6323e-03, -2.7691e-02, -4.5044e-02,  2.2563e-03],\n",
            "        [ 4.6746e-02,  6.1937e-02,  1.1216e-04, -9.5679e-02, -2.1480e-02,\n",
            "         -1.8558e-02, -1.6635e-02, -7.3726e-02,  6.7846e-03, -1.0805e-01,\n",
            "          2.1053e-02, -1.8307e-02, -4.4844e-03,  4.8485e-04, -2.5513e-02,\n",
            "          1.0567e-01,  7.9233e-02,  5.2629e-02, -3.2119e-02,  1.3681e-02,\n",
            "         -3.0184e-02,  1.0072e-01,  8.1257e-02,  4.8209e-02,  2.0717e-02,\n",
            "          3.2719e-02, -2.2083e-02, -2.6458e-02, -9.8014e-02,  4.3652e-02,\n",
            "          1.0591e-01, -7.2682e-02,  5.0506e-03, -1.0708e-01,  2.3470e-02,\n",
            "          1.8098e-02, -5.2823e-02,  4.8299e-02, -5.3866e-02, -5.9571e-02,\n",
            "         -7.4020e-02, -3.0419e-02, -7.9054e-02,  3.7087e-02, -3.3922e-02,\n",
            "         -9.3977e-02, -7.3493e-02,  2.3052e-02,  3.2929e-02,  9.5853e-02,\n",
            "          8.1455e-02, -3.1817e-02,  8.5730e-03, -1.0875e-02, -1.2489e-02,\n",
            "         -9.2217e-02,  1.0117e-01, -2.7102e-02, -3.2047e-02,  5.0884e-02,\n",
            "          6.7797e-02,  4.1121e-02, -3.4631e-02,  4.2022e-02,  9.5090e-02,\n",
            "         -5.7914e-02,  9.1518e-02,  8.1301e-02,  8.4512e-04, -6.5525e-02,\n",
            "          5.8100e-02,  3.0932e-02, -9.7003e-02,  8.6186e-02,  4.8764e-02,\n",
            "         -5.3932e-02,  6.9734e-02, -9.7837e-03,  2.8432e-02,  8.8207e-02,\n",
            "         -1.8612e-02,  8.7536e-02,  1.0315e-01, -2.7619e-02],\n",
            "        [-7.7425e-02,  1.6637e-02,  3.9966e-02, -2.4857e-02,  8.8594e-02,\n",
            "          8.3554e-02,  8.7974e-02, -9.5524e-02,  9.8848e-02,  8.2395e-02,\n",
            "          6.4775e-02,  8.5017e-02, -6.5940e-02, -6.7723e-02, -6.5365e-02,\n",
            "          9.7091e-02,  4.3756e-02,  1.4368e-02,  1.3197e-02,  8.3466e-02,\n",
            "          1.0803e-01,  4.9121e-02,  2.7906e-02, -1.5552e-02,  9.1957e-02,\n",
            "         -1.0815e-01, -4.1369e-02,  9.1622e-02, -8.8369e-02, -5.3632e-02,\n",
            "          9.2694e-02, -1.0608e-02,  7.3819e-02,  8.1057e-02,  3.0370e-02,\n",
            "          6.8313e-02, -8.6803e-02, -6.8204e-02,  3.0002e-03,  7.3341e-02,\n",
            "          4.0373e-02,  4.5014e-02,  3.0601e-02,  1.0182e-01, -6.7536e-02,\n",
            "         -4.4424e-02,  9.1275e-02, -1.0116e-01, -3.1112e-02,  9.4604e-02,\n",
            "          7.1774e-02,  5.5035e-02, -3.1633e-02,  6.3175e-02,  9.7551e-03,\n",
            "         -3.2424e-02, -2.0597e-02, -9.0883e-02, -1.5361e-02,  4.8434e-02,\n",
            "          2.4417e-02, -1.7140e-02, -1.0047e-01,  3.6949e-02,  5.8619e-02,\n",
            "         -1.0553e-02, -9.3029e-02,  5.6675e-02, -9.0165e-02,  8.8524e-02,\n",
            "         -7.2430e-02, -7.4318e-02, -3.2297e-02,  4.9466e-02,  6.1772e-02,\n",
            "          4.4002e-03, -7.0175e-02,  3.3385e-03, -5.0978e-02, -3.3957e-02,\n",
            "          2.3304e-02,  4.8656e-02, -8.1628e-02, -2.5642e-02],\n",
            "        [-8.2570e-02,  3.6612e-02, -8.0065e-02, -5.5038e-02,  5.8508e-02,\n",
            "         -5.1884e-02,  4.6905e-02,  2.1016e-02, -1.0739e-01,  2.4979e-02,\n",
            "         -9.8498e-02,  2.5873e-02, -1.9342e-02, -1.0752e-01, -4.8890e-02,\n",
            "          6.7506e-02, -8.2605e-03,  2.5543e-02, -4.0862e-02,  2.1017e-03,\n",
            "         -2.0803e-02,  1.0775e-01,  6.5290e-02, -2.5874e-02,  1.1265e-03,\n",
            "         -3.1307e-02,  5.8153e-02,  6.0483e-02, -3.1025e-02, -7.2713e-02,\n",
            "         -7.7523e-02, -9.1429e-02, -4.6821e-02,  5.5333e-02,  1.0182e-01,\n",
            "         -6.7450e-02, -2.3874e-02,  8.0747e-02,  5.3555e-02,  5.1633e-02,\n",
            "         -9.5365e-03, -9.4180e-03,  6.7774e-02,  3.5360e-02, -1.3958e-02,\n",
            "          2.1229e-02,  6.6905e-02, -4.0919e-02, -4.1972e-02, -3.0279e-02,\n",
            "         -2.9190e-02,  1.0846e-02,  8.3570e-02, -3.7935e-02, -8.3890e-02,\n",
            "          9.7724e-02, -2.6470e-02, -5.2048e-02, -7.8806e-02, -1.0850e-01,\n",
            "          8.5034e-02, -8.1786e-02,  8.0934e-02, -7.8532e-02,  1.1119e-02,\n",
            "          5.7486e-02, -3.7183e-02,  1.8272e-02, -1.0837e-01, -1.5865e-02,\n",
            "          6.3864e-02, -7.3471e-02, -1.0031e-01, -1.9541e-02,  1.0051e-01,\n",
            "          8.7742e-02, -6.6236e-02,  2.3931e-02,  8.3123e-02, -4.1581e-02,\n",
            "          6.8720e-02,  1.9270e-02,  1.3437e-02,  7.1472e-02]])\n",
            "fc3.bias tensor([-0.0395, -0.0905,  0.0166,  0.0513, -0.1058, -0.0998,  0.0641, -0.0394,\n",
            "         0.1083, -0.0846])\n"
          ]
        }
      ]
    },
    {
      "cell_type": "code",
      "source": [
        "# 첫 번째 합성곱 층의 가중치 가져오기\n",
        "conv1_weights = net.conv1.weight.data\n",
        "\n",
        "# 흰색 영역 픽셀 값 추출\n",
        "white_pixel_counts = []\n",
        "for i in range(conv1_weights.size(0)):\n",
        "    weights = conv1_weights[i].view(-1)  # 각 필터의 가중치를 1차원으로 펼침\n",
        "    white_pixel_count = (weights > 0.9).sum().item()  # 0.9보다 큰 값(흰색)의 픽셀 수 계산\n",
        "    white_pixel_counts.append(white_pixel_count)\n",
        "\n",
        "# 히스토그램 그리기\n",
        "plt.hist(white_pixel_counts, bins=20, color='skyblue', edgecolor='black')\n",
        "plt.title('Histogram of White Pixel Counts in Conv1 Weights')\n",
        "plt.xlabel('Number of White Pixels')\n",
        "plt.ylabel('Frequency')\n",
        "plt.show()"
      ],
      "metadata": {
        "colab": {
          "base_uri": "https://localhost:8080/",
          "height": 472
        },
        "id": "YSTBu1Lsr03t",
        "outputId": "5e5199ea-8102-4cd5-e7cb-acd986ac22bc"
      },
      "execution_count": 40,
      "outputs": [
        {
          "output_type": "display_data",
          "data": {
            "text/plain": [
              "<Figure size 640x480 with 1 Axes>"
            ],
            "image/png": "[encoded data removed]"
          },
          "metadata": {}
        }
      ]
    },
    {
      "cell_type": "code",
      "source": [
        "# 가중치 값들을 1차원으로 펼치기\n",
        "weights_flat = conv1_weights.view(-1).cpu().numpy()\n",
        "\n",
        "# 가중치 값들의 분포를 히스토그램으로 시각화\n",
        "plt.figure(figsize=(10, 6))\n",
        "plt.hist(weights_flat, bins=50, color='skyblue', edgecolor='black')\n",
        "plt.title('Distribution of Conv1 Weights')\n",
        "plt.xlabel('Weight Value')\n",
        "plt.ylabel('Frequency')\n",
        "plt.grid(True)\n",
        "plt.show()"
      ],
      "metadata": {
        "colab": {
          "base_uri": "https://localhost:8080/",
          "height": 564
        },
        "id": "7ZyHmx3dsCad",
        "outputId": "3b6273ff-380c-4e09-b63c-cad9a3d740ae"
      },
      "execution_count": 41,
      "outputs": [
        {
          "output_type": "display_data",
          "data": {
            "text/plain": [
              "<Figure size 1000x600 with 1 Axes>"
            ],
            "image/png": "[encoded data removed]"
          },
          "metadata": {}
        }
      ]
    },
    {
      "cell_type": "code",
      "source": [
        "# 예측을 위해 임의의 입력 데이터 생성 (예: 랜덤 노이즈)\n",
        "input_data = torch.randn(1, 3, 32, 32)  # 크기가 1x3x32x32의 랜덤 입력\n",
        "\n",
        "# 모델에 입력 데이터 전달하여 출력 계산\n",
        "output = net(input_data)\n",
        "\n",
        "# 모든 출력의 가중치 값 시각화\n",
        "plt.figure(figsize=(12, 8))\n",
        "for i in range(output.size(1)):  # 모든 출력에 대해 반복\n",
        "    plt.subplot(2, 5, i + 1)\n",
        "    output_i = output[0, i].detach().cpu().numpy()  # 해당 출력을 numpy 배열로 변환\n",
        "    plt.hist(output_i.flatten(), bins=50, color='skyblue', edgecolor='black')  # 히스토그램 그리기\n",
        "    plt.title(f'Output {i+1}')\n",
        "    plt.xlabel('Value')\n",
        "    plt.ylabel('Frequency')\n",
        "\n",
        "plt.tight_layout()\n",
        "plt.show()"
      ],
      "metadata": {
        "colab": {
          "base_uri": "https://localhost:8080/",
          "height": 710
        },
        "id": "_7oqcrP-sS0M",
        "outputId": "80aeecf6-7ea7-459e-9f7a-d2adbab2d00a"
      },
      "execution_count": 42,
      "outputs": [
        {
          "output_type": "display_data",
          "data": {
            "text/plain": [
              "<Figure size 1200x800 with 10 Axes>"
            ],
            "image/png": "[encoded data removed]"
          },
          "metadata": {}
        }
      ]
    },
    {
      "cell_type": "code",
      "source": [
        "import torch.optim as optim\n",
        "\n",
        "criterion = nn.CrossEntropyLoss() # 3개 이상의 결과값은\n",
        "optimizer = optim.SGD(net.parameters(), lr=0.001, momentum=0.9)"
      ],
      "metadata": {
        "id": "OnjyT1HXtWdb"
      },
      "execution_count": 43,
      "outputs": []
    },
    {
      "cell_type": "code",
      "source": [
        "for epoch in range(2):  # loop over the dataset multiple times\n",
        "\n",
        "    running_loss = 0.0\n",
        "    for i, data in enumerate(trainloader, 0):\n",
        "        # get the inputs; data is a list of [inputs, labels]\n",
        "        inputs, labels = data\n",
        "\n",
        "        # zero the parameter gradients\n",
        "        optimizer.zero_grad()\n",
        "\n",
        "        # forward + backward + optimize\n",
        "        outputs = net(inputs)\n",
        "        loss = criterion(outputs, labels)\n",
        "        loss.backward()\n",
        "        optimizer.step()\n",
        "\n",
        "        # print statistics\n",
        "        running_loss += loss.item()\n",
        "        if i % 2000 == 1999:    # print every 2000 mini-batches\n",
        "            print(f'[{epoch + 1}, {i + 1:5d}] loss: {running_loss / 2000:.3f}')\n",
        "            running_loss = 0.0\n",
        "\n",
        "print('Finished Training')"
      ],
      "metadata": {
        "colab": {
          "base_uri": "https://localhost:8080/"
        },
        "id": "BzvxgxQbvEvz",
        "outputId": "b2b4c1ce-7f0a-4067-dc5f-8061a8120345"
      },
      "execution_count": 44,
      "outputs": [
        {
          "output_type": "stream",
          "name": "stdout",
          "text": [
            "[1,  2000] loss: 2.158\n",
            "[1,  4000] loss: 1.792\n",
            "[1,  6000] loss: 1.625\n",
            "[1,  8000] loss: 1.547\n",
            "[1, 10000] loss: 1.499\n",
            "[1, 12000] loss: 1.465\n",
            "[2,  2000] loss: 1.348\n",
            "[2,  4000] loss: 1.339\n",
            "[2,  6000] loss: 1.329\n",
            "[2,  8000] loss: 1.331\n",
            "[2, 10000] loss: 1.288\n",
            "[2, 12000] loss: 1.286\n",
            "Finished Training\n"
          ]
        }
      ]
    }
  ]
}