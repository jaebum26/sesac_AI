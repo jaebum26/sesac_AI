{
  "nbformat": 4,
  "nbformat_minor": 0,
  "metadata": {
    "colab": {
      "provenance": []
    },
    "kernelspec": {
      "name": "python3",
      "display_name": "Python 3"
    },
    "language_info": {
      "name": "python"
    }
  },
  "cells": [
    {
      "cell_type": "code",
      "execution_count": 4,
      "metadata": {
        "id": "_2gIGnvx80Dh"
      },
      "outputs": [],
      "source": [
        "import torch\n",
        "import torch.nn as nn\n",
        "import torch.optim as optim\n",
        "import torch.nn.functional as F\n",
        "from torch.utils.data import DataLoader, TensorDataset\n",
        "import numpy as np\n",
        "\n",
        "# 입력 데이터\n",
        "x = np.array([[1,2,3],\n",
        "              [1,2,4],\n",
        "              [2,4,4],\n",
        "              [3,4,1]])\n",
        "y = np.array([1,4,1,2])\n",
        "\n",
        "# 파라미터\n",
        "input_size = x.shape[1]  # 입력 크기\n",
        "output_size = 5           # 출력 크기\n",
        "batch_size = 2            # 배치 크기\n",
        "epochs = 3                # 에포크 수\n",
        "\n",
        "# 입력 데이터와 레이블을 Tensor로 변환\n",
        "x_tensor = torch.tensor(x, dtype=torch.float32)\n",
        "y_tensor = torch.tensor(y, dtype=torch.long)\n",
        "\n",
        "# 데이터셋 생성\n",
        "dataset = TensorDataset(x_tensor, y_tensor)\n",
        "\n",
        "# 데이터로더 생성\n",
        "dataloader = DataLoader(dataset, batch_size=batch_size, shuffle=True)\n",
        "\n",
        "# 신경망 모델 정의\n",
        "class Model(nn.Module):\n",
        "    def __init__(self):\n",
        "        super(Model, self).__init__()\n",
        "        self.fc1 = nn.Linear(input_size, 10)\n",
        "        self.fc2 = nn.Linear(10, output_size)\n",
        "\n",
        "    def forward(self, x):\n",
        "        x = F.relu(self.fc1(x))\n",
        "        x = self.fc2(x)\n",
        "        return F.softmax(x, dim=1)"
      ]
    },
    {
      "cell_type": "code",
      "source": [
        "# 모델 초기화\n",
        "model = Model()\n",
        "\n",
        "# 손실 함수 및 최적화 기준 설정\n",
        "criterion = nn.CrossEntropyLoss()\n",
        "optimizer = optim.Adam(model.parameters(), lr=0.001)\n",
        "\n",
        "# 학습\n",
        "for epoch in range(epochs):\n",
        "    for batch_x, batch_y in dataloader:\n",
        "        optimizer.zero_grad()\n",
        "        outputs = model(batch_x)\n",
        "        loss = criterion(outputs, batch_y)\n",
        "        loss.backward()\n",
        "        optimizer.step()\n",
        "    print(f'Epoch [{epoch+1}/{epochs}], Loss: {loss.item():.4f}')"
      ],
      "metadata": {
        "colab": {
          "base_uri": "https://localhost:8080/"
        },
        "id": "Fs0VAcxe822P",
        "outputId": "25c76b56-17a6-4902-9ac2-6284fb80d3dc"
      },
      "execution_count": 5,
      "outputs": [
        {
          "output_type": "stream",
          "name": "stdout",
          "text": [
            "Epoch [1/3], Loss: 1.6519\n",
            "Epoch [2/3], Loss: 1.6456\n",
            "Epoch [3/3], Loss: 1.6441\n"
          ]
        }
      ]
    },
    {
      "cell_type": "code",
      "source": [
        "# 테스트\n",
        "model.eval()\n",
        "with torch.no_grad():\n",
        "    outputs = model(x_tensor)\n",
        "    _, predicted = torch.max(outputs, 1)\n",
        "    print(\"Predictions:\", predicted.numpy())"
      ],
      "metadata": {
        "colab": {
          "base_uri": "https://localhost:8080/"
        },
        "id": "MA1EXVin89mw",
        "outputId": "f020fdc9-4a8d-4db1-827b-a86be23eefa7"
      },
      "execution_count": 6,
      "outputs": [
        {
          "output_type": "stream",
          "name": "stdout",
          "text": [
            "Predictions: [0 0 3 3]\n"
          ]
        }
      ]
    }
  ]
}