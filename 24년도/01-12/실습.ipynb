{
 "cells": [
  {
   "cell_type": "code",
   "execution_count": 5,
   "metadata": {},
   "outputs": [
    {
     "name": "stdout",
     "output_type": "stream",
     "text": [
      "Collecting openpyxl\n",
      "  Downloading openpyxl-3.1.2-py2.py3-none-any.whl (249 kB)\n",
      "     ---------------------------------------- 0.0/250.0 kB ? eta -:--:--\n",
      "     ------- ------------------------------- 51.2/250.0 kB 1.3 MB/s eta 0:00:01\n",
      "     -------------------------------------- 250.0/250.0 kB 3.8 MB/s eta 0:00:00\n",
      "Collecting et-xmlfile (from openpyxl)\n",
      "  Downloading et_xmlfile-1.1.0-py3-none-any.whl (4.7 kB)\n",
      "Installing collected packages: et-xmlfile, openpyxl\n",
      "Successfully installed et-xmlfile-1.1.0 openpyxl-3.1.2\n"
     ]
    }
   ],
   "source": [
    "!pip install openpyxl"
   ]
  },
  {
   "cell_type": "code",
   "execution_count": 44,
   "metadata": {},
   "outputs": [
    {
     "name": "stdout",
     "output_type": "stream",
     "text": [
      "건강\n"
     ]
    }
   ],
   "source": [
    "from glob import glob\n",
    "datalist='C:/Users/blucom005/Downloads/정리폴더/01-12/9장/*.xlsx'\n",
    "file=glob(datalist)[0]\n",
    "print(file.split('_')[1].split('.')[0])"
   ]
  },
  {
   "cell_type": "code",
   "execution_count": 36,
   "metadata": {},
   "outputs": [
    {
     "data": {
      "text/html": [
       "<div>\n",
       "<style scoped>\n",
       "    .dataframe tbody tr th:only-of-type {\n",
       "        vertical-align: middle;\n",
       "    }\n",
       "\n",
       "    .dataframe tbody tr th {\n",
       "        vertical-align: top;\n",
       "    }\n",
       "\n",
       "    .dataframe thead th {\n",
       "        text-align: right;\n",
       "    }\n",
       "</style>\n",
       "<table border=\"1\" class=\"dataframe\">\n",
       "  <thead>\n",
       "    <tr style=\"text-align: right;\">\n",
       "      <th></th>\n",
       "      <th>No</th>\n",
       "      <th>시도</th>\n",
       "      <th>구군</th>\n",
       "      <th>평균</th>\n",
       "      <th>교원 1인당 학생수</th>\n",
       "      <th>영유아 천명당 보육시설 수</th>\n",
       "      <th>인구 십만명당 학교수</th>\n",
       "      <th>인구 천명당 사설학원수</th>\n",
       "    </tr>\n",
       "  </thead>\n",
       "  <tbody>\n",
       "    <tr>\n",
       "      <th>0</th>\n",
       "      <td>1</td>\n",
       "      <td>서울특별시</td>\n",
       "      <td>종로구</td>\n",
       "      <td>0.6839</td>\n",
       "      <td>0.8505</td>\n",
       "      <td>0.6248</td>\n",
       "      <td>0.2249</td>\n",
       "      <td>0.8126</td>\n",
       "    </tr>\n",
       "    <tr>\n",
       "      <th>1</th>\n",
       "      <td>2</td>\n",
       "      <td>서울특별시</td>\n",
       "      <td>중구</td>\n",
       "      <td>0.5013</td>\n",
       "      <td>0.8729</td>\n",
       "      <td>0.4147</td>\n",
       "      <td>0.2294</td>\n",
       "      <td>0.2944</td>\n",
       "    </tr>\n",
       "  </tbody>\n",
       "</table>\n",
       "</div>"
      ],
      "text/plain": [
       "   No     시도   구군      평균  교원 1인당 학생수  영유아 천명당 보육시설 수  인구 십만명당 학교수  \\\n",
       "0   1  서울특별시  종로구  0.6839      0.8505          0.6248       0.2249   \n",
       "1   2  서울특별시   중구  0.5013      0.8729          0.4147       0.2294   \n",
       "\n",
       "   인구 천명당 사설학원수  \n",
       "0        0.8126  \n",
       "1        0.2944  "
      ]
     },
     "execution_count": 36,
     "metadata": {},
     "output_type": "execute_result"
    }
   ],
   "source": [
    "import pandas as pd\n",
    "\n",
    "pd.read_excel(file).head(2)\n",
    "\n"
   ]
  },
  {
   "cell_type": "code",
   "execution_count": 37,
   "metadata": {},
   "outputs": [
    {
     "data": {
      "text/html": [
       "<div>\n",
       "<style scoped>\n",
       "    .dataframe tbody tr th:only-of-type {\n",
       "        vertical-align: middle;\n",
       "    }\n",
       "\n",
       "    .dataframe tbody tr th {\n",
       "        vertical-align: top;\n",
       "    }\n",
       "\n",
       "    .dataframe thead th {\n",
       "        text-align: right;\n",
       "    }\n",
       "</style>\n",
       "<table border=\"1\" class=\"dataframe\">\n",
       "  <thead>\n",
       "    <tr style=\"text-align: right;\">\n",
       "      <th></th>\n",
       "      <th>시도</th>\n",
       "      <th>구군</th>\n",
       "      <th>평균</th>\n",
       "    </tr>\n",
       "  </thead>\n",
       "  <tbody>\n",
       "    <tr>\n",
       "      <th>0</th>\n",
       "      <td>서울특별시</td>\n",
       "      <td>종로구</td>\n",
       "      <td>0.6839</td>\n",
       "    </tr>\n",
       "    <tr>\n",
       "      <th>1</th>\n",
       "      <td>서울특별시</td>\n",
       "      <td>중구</td>\n",
       "      <td>0.5013</td>\n",
       "    </tr>\n",
       "    <tr>\n",
       "      <th>2</th>\n",
       "      <td>서울특별시</td>\n",
       "      <td>용산구</td>\n",
       "      <td>0.2679</td>\n",
       "    </tr>\n",
       "    <tr>\n",
       "      <th>3</th>\n",
       "      <td>서울특별시</td>\n",
       "      <td>성동구</td>\n",
       "      <td>0.2464</td>\n",
       "    </tr>\n",
       "    <tr>\n",
       "      <th>4</th>\n",
       "      <td>서울특별시</td>\n",
       "      <td>광진구</td>\n",
       "      <td>0.4879</td>\n",
       "    </tr>\n",
       "    <tr>\n",
       "      <th>...</th>\n",
       "      <td>...</td>\n",
       "      <td>...</td>\n",
       "      <td>...</td>\n",
       "    </tr>\n",
       "    <tr>\n",
       "      <th>224</th>\n",
       "      <td>경상남도</td>\n",
       "      <td>함양군</td>\n",
       "      <td>0.5064</td>\n",
       "    </tr>\n",
       "    <tr>\n",
       "      <th>225</th>\n",
       "      <td>경상남도</td>\n",
       "      <td>거창군</td>\n",
       "      <td>0.8178</td>\n",
       "    </tr>\n",
       "    <tr>\n",
       "      <th>226</th>\n",
       "      <td>경상남도</td>\n",
       "      <td>합천군</td>\n",
       "      <td>0.1640</td>\n",
       "    </tr>\n",
       "    <tr>\n",
       "      <th>227</th>\n",
       "      <td>제주특별자치도</td>\n",
       "      <td>제주시</td>\n",
       "      <td>0.6468</td>\n",
       "    </tr>\n",
       "    <tr>\n",
       "      <th>228</th>\n",
       "      <td>제주특별자치도</td>\n",
       "      <td>서귀포시</td>\n",
       "      <td>0.6468</td>\n",
       "    </tr>\n",
       "  </tbody>\n",
       "</table>\n",
       "<p>229 rows × 3 columns</p>\n",
       "</div>"
      ],
      "text/plain": [
       "          시도    구군      평균\n",
       "0      서울특별시   종로구  0.6839\n",
       "1      서울특별시    중구  0.5013\n",
       "2      서울특별시   용산구  0.2679\n",
       "3      서울특별시   성동구  0.2464\n",
       "4      서울특별시   광진구  0.4879\n",
       "..       ...   ...     ...\n",
       "224     경상남도   함양군  0.5064\n",
       "225     경상남도   거창군  0.8178\n",
       "226     경상남도   합천군  0.1640\n",
       "227  제주특별자치도   제주시  0.6468\n",
       "228  제주특별자치도  서귀포시  0.6468\n",
       "\n",
       "[229 rows x 3 columns]"
      ]
     },
     "execution_count": 37,
     "metadata": {},
     "output_type": "execute_result"
    }
   ],
   "source": [
    "교육=pd.read_excel(file)[['시도','구군','평균']]\n",
    "교육=pd.read_excel(file).iloc[:,1:4]\n",
    "교육"
   ]
  },
  {
   "cell_type": "code",
   "execution_count": 45,
   "metadata": {},
   "outputs": [],
   "source": [
    "cnt=0\n",
    "\n",
    "\n",
    "file=glob(datalist)[cnt];cnt+=1\n",
    "건강=pd.read_excel(file).iloc[:,1:4]\n",
    "\n",
    "file=glob(datalist)[cnt];cnt+=1\n",
    "경제=pd.read_excel(file).iloc[:,1:4]\n",
    "\n",
    "file=glob(datalist)[cnt];cnt+=1\n",
    "관계및사회참여=pd.read_excel(file).iloc[:,1:4]\n",
    "\n",
    "file=glob(datalist)[cnt];cnt+=1\n",
    "교육=pd.read_excel(file).iloc[:,1:4]\n",
    "\n",
    "file=glob(datalist)[cnt];cnt+=1\n",
    "삶의만족도=pd.read_excel(file).iloc[:,1:4]\n",
    "\n",
    "file=glob(datalist)[cnt];cnt+=1\n",
    "안전=pd.read_excel(file).iloc[:,1:4]\n",
    "\n",
    "file=glob(datalist)[cnt];cnt+=1\n",
    "여가=pd.read_excel(file).iloc[:,1:4]\n",
    "\n",
    "file=glob(datalist)[cnt];cnt+=1\n",
    "참여=pd.read_excel(file).iloc[:,1:4]"
   ]
  },
  {
   "cell_type": "code",
   "execution_count": 60,
   "metadata": {},
   "outputs": [
    {
     "name": "stderr",
     "output_type": "stream",
     "text": [
      "C:\\Users\\blucom005\\AppData\\Local\\Temp\\ipykernel_7244\\3536763160.py:5: UserWarning: Boolean Series key will be reindexed to match DataFrame index.\n",
      "  건강[건강['시도'].str.contains('특별')][(건강['평균']>0.8)|(건강['평균']<0.3)]['시도']\n"
     ]
    },
    {
     "data": {
      "text/plain": [
       "0        서울특별시\n",
       "12       서울특별시\n",
       "74     세종특별자치시\n",
       "227    제주특별자치도\n",
       "228    제주특별자치도\n",
       "Name: 시도, dtype: object"
      ]
     },
     "execution_count": 60,
     "metadata": {},
     "output_type": "execute_result"
    }
   ],
   "source": [
    "건강[(건강['시도']=='서울특별시')&(건강['구군']=='중구')]\n",
    "\n",
    "건강[(건강['시도']=='서울특별시')&(건강['평균']>=0.5)]\n",
    "\n",
    "건강[건강['시도'].str.contains('특별')][(건강['평균']>0.8)|(건강['평균']<0.3)]['시도']"
   ]
  },
  {
   "cell_type": "code",
   "execution_count": 65,
   "metadata": {},
   "outputs": [
    {
     "name": "stdout",
     "output_type": "stream",
     "text": [
      "서울특별시 save 완료\n",
      "부산광역시 save 완료\n",
      "대구광역시 save 완료\n",
      "인천광역시 save 완료\n",
      "광주광역시 save 완료\n",
      "대전광역시 save 완료\n",
      "울산광역시 save 완료\n",
      "세종특별자치시 save 완료\n",
      "경기도 save 완료\n",
      "강원도 save 완료\n",
      "충청북도 save 완료\n",
      "충청남도 save 완료\n",
      "전라북도 save 완료\n",
      "전라남도 save 완료\n",
      "경상북도 save 완료\n",
      "경상남도 save 완료\n",
      "제주특별자치도 save 완료\n"
     ]
    }
   ],
   "source": [
    "#####################################\n",
    "### 건강자료에서\n",
    "### 건강_서울특별시.csv\n",
    "### 건강_부산광역시.csv\n",
    "### 건강_경기.csv\n",
    "#####################################\n",
    "\n",
    "조건리스트=건강['시도'].unique()\n",
    "for 조건 in 조건리스트:\n",
    "    tmp=건강[건강['시도']==조건]\n",
    "    tmp.to_csv('C:/Users/blucom005/Downloads/정리폴더/01-12/9장/시도별/건강_'+ 조건 +'.csv',index=False,encoding='utf-8')\n",
    "    print(조건,'save 완료')"
   ]
  },
  {
   "cell_type": "code",
   "execution_count": 66,
   "metadata": {},
   "outputs": [
    {
     "data": {
      "text/plain": [
       "Index(['시도', '구군', '평균'], dtype='object')"
      ]
     },
     "execution_count": 66,
     "metadata": {},
     "output_type": "execute_result"
    }
   ],
   "source": [
    "건강.columns"
   ]
  },
  {
   "cell_type": "code",
   "execution_count": 68,
   "metadata": {},
   "outputs": [
    {
     "data": {
      "text/html": [
       "<div>\n",
       "<style scoped>\n",
       "    .dataframe tbody tr th:only-of-type {\n",
       "        vertical-align: middle;\n",
       "    }\n",
       "\n",
       "    .dataframe tbody tr th {\n",
       "        vertical-align: top;\n",
       "    }\n",
       "\n",
       "    .dataframe thead th {\n",
       "        text-align: right;\n",
       "    }\n",
       "</style>\n",
       "<table border=\"1\" class=\"dataframe\">\n",
       "  <thead>\n",
       "    <tr style=\"text-align: right;\">\n",
       "      <th></th>\n",
       "      <th>시도</th>\n",
       "      <th>구군</th>\n",
       "      <th>평균</th>\n",
       "      <th>시군구</th>\n",
       "      <th>비고</th>\n",
       "    </tr>\n",
       "  </thead>\n",
       "  <tbody>\n",
       "    <tr>\n",
       "      <th>0</th>\n",
       "      <td>서울특별시</td>\n",
       "      <td>종로구</td>\n",
       "      <td>0.9220</td>\n",
       "      <td>서울특별시_종로구</td>\n",
       "      <td>상</td>\n",
       "    </tr>\n",
       "    <tr>\n",
       "      <th>1</th>\n",
       "      <td>서울특별시</td>\n",
       "      <td>중구</td>\n",
       "      <td>0.6742</td>\n",
       "      <td>서울특별시_중구</td>\n",
       "      <td>상</td>\n",
       "    </tr>\n",
       "    <tr>\n",
       "      <th>2</th>\n",
       "      <td>서울특별시</td>\n",
       "      <td>용산구</td>\n",
       "      <td>0.5898</td>\n",
       "      <td>서울특별시_용산구</td>\n",
       "      <td>상</td>\n",
       "    </tr>\n",
       "    <tr>\n",
       "      <th>3</th>\n",
       "      <td>서울특별시</td>\n",
       "      <td>성동구</td>\n",
       "      <td>0.4794</td>\n",
       "      <td>서울특별시_성동구</td>\n",
       "      <td>하</td>\n",
       "    </tr>\n",
       "    <tr>\n",
       "      <th>4</th>\n",
       "      <td>서울특별시</td>\n",
       "      <td>광진구</td>\n",
       "      <td>0.6373</td>\n",
       "      <td>서울특별시_광진구</td>\n",
       "      <td>상</td>\n",
       "    </tr>\n",
       "  </tbody>\n",
       "</table>\n",
       "</div>"
      ],
      "text/plain": [
       "      시도   구군      평균        시군구 비고\n",
       "0  서울특별시  종로구  0.9220  서울특별시_종로구  상\n",
       "1  서울특별시   중구  0.6742   서울특별시_중구  상\n",
       "2  서울특별시  용산구  0.5898  서울특별시_용산구  상\n",
       "3  서울특별시  성동구  0.4794  서울특별시_성동구  하\n",
       "4  서울특별시  광진구  0.6373  서울특별시_광진구  상"
      ]
     },
     "execution_count": 68,
     "metadata": {},
     "output_type": "execute_result"
    }
   ],
   "source": [
    "건강['시군구']=건강['시도'] + '_' + 건강['구군']\n",
    "건강.head()\n",
    "\n",
    "건강['비고'] = 건강['평균'].apply(lambda x: '상' if x > 0.5 else '하')\n",
    "건강.head()"
   ]
  },
  {
   "cell_type": "code",
   "execution_count": 73,
   "metadata": {},
   "outputs": [
    {
     "name": "stderr",
     "output_type": "stream",
     "text": [
      "C:\\Users\\blucom005\\AppData\\Local\\Temp\\ipykernel_7244\\941565716.py:11: SettingWithCopyWarning: \n",
      "A value is trying to be set on a copy of a slice from a DataFrame\n",
      "\n",
      "See the caveats in the documentation: https://pandas.pydata.org/pandas-docs/stable/user_guide/indexing.html#returning-a-view-versus-a-copy\n",
      "  df['비고'][cnt]=aaa(x)\n",
      "C:\\Users\\blucom005\\AppData\\Local\\Temp\\ipykernel_7244\\941565716.py:11: FutureWarning: Setting an item of incompatible dtype is deprecated and will raise in a future error of pandas. Value '상' has dtype incompatible with int64, please explicitly cast to a compatible dtype first.\n",
      "  df['비고'][cnt]=aaa(x)\n"
     ]
    },
    {
     "data": {
      "text/html": [
       "<div>\n",
       "<style scoped>\n",
       "    .dataframe tbody tr th:only-of-type {\n",
       "        vertical-align: middle;\n",
       "    }\n",
       "\n",
       "    .dataframe tbody tr th {\n",
       "        vertical-align: top;\n",
       "    }\n",
       "\n",
       "    .dataframe thead th {\n",
       "        text-align: right;\n",
       "    }\n",
       "</style>\n",
       "<table border=\"1\" class=\"dataframe\">\n",
       "  <thead>\n",
       "    <tr style=\"text-align: right;\">\n",
       "      <th></th>\n",
       "      <th>시도</th>\n",
       "      <th>구군</th>\n",
       "      <th>평균</th>\n",
       "      <th>비고</th>\n",
       "    </tr>\n",
       "  </thead>\n",
       "  <tbody>\n",
       "    <tr>\n",
       "      <th>0</th>\n",
       "      <td>서울특별시</td>\n",
       "      <td>종로구</td>\n",
       "      <td>0.9220</td>\n",
       "      <td>상</td>\n",
       "    </tr>\n",
       "    <tr>\n",
       "      <th>1</th>\n",
       "      <td>서울특별시</td>\n",
       "      <td>중구</td>\n",
       "      <td>0.6742</td>\n",
       "      <td>상</td>\n",
       "    </tr>\n",
       "    <tr>\n",
       "      <th>2</th>\n",
       "      <td>서울특별시</td>\n",
       "      <td>용산구</td>\n",
       "      <td>0.5898</td>\n",
       "      <td>상</td>\n",
       "    </tr>\n",
       "    <tr>\n",
       "      <th>3</th>\n",
       "      <td>서울특별시</td>\n",
       "      <td>성동구</td>\n",
       "      <td>0.4794</td>\n",
       "      <td>하</td>\n",
       "    </tr>\n",
       "    <tr>\n",
       "      <th>4</th>\n",
       "      <td>서울특별시</td>\n",
       "      <td>광진구</td>\n",
       "      <td>0.6373</td>\n",
       "      <td>상</td>\n",
       "    </tr>\n",
       "  </tbody>\n",
       "</table>\n",
       "</div>"
      ],
      "text/plain": [
       "      시도   구군      평균 비고\n",
       "0  서울특별시  종로구  0.9220  상\n",
       "1  서울특별시   중구  0.6742  상\n",
       "2  서울특별시  용산구  0.5898  상\n",
       "3  서울특별시  성동구  0.4794  하\n",
       "4  서울특별시  광진구  0.6373  상"
      ]
     },
     "execution_count": 73,
     "metadata": {},
     "output_type": "execute_result"
    }
   ],
   "source": [
    "df=건강.iloc[:,:-2].copy()  #깊은 복사를 해야, 건강데이터가 변경되었을 때 df 데이터가 영향을 받지 않음  , df=건강\n",
    "df['비고']=0\n",
    "\n",
    "def aaa(row):\n",
    "    if row>0.5:\n",
    "        return '상'\n",
    "    else:\n",
    "        return '하'\n",
    "\n",
    "for cnt, x in enumerate(df['평균']):\n",
    "    df['비고'][cnt]=aaa(x)\n",
    "\n",
    "df.head()"
   ]
  }
 ],
 "metadata": {
  "kernelspec": {
   "display_name": "a",
   "language": "python",
   "name": "python3"
  },
  "language_info": {
   "codemirror_mode": {
    "name": "ipython",
    "version": 3
   },
   "file_extension": ".py",
   "mimetype": "text/x-python",
   "name": "python",
   "nbconvert_exporter": "python",
   "pygments_lexer": "ipython3",
   "version": "3.12.0"
  }
 },
 "nbformat": 4,
 "nbformat_minor": 2
}
