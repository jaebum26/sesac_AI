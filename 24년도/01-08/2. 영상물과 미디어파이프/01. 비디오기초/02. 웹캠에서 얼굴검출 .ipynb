{
 "cells": [
  {
   "cell_type": "markdown",
   "metadata": {},
   "source": [
    "### <div class=\"alert alert-block alert-info\"> [Part1] 웹캠에서 비디오 인식\n"
   ]
  },
  {
   "cell_type": "code",
   "execution_count": 2,
   "metadata": {},
   "outputs": [],
   "source": [
    "import cv2\n",
    "webcam = cv2.VideoCapture(0)\n",
    "webcam.set(cv2.CAP_PROP_FRAME_WIDTH, 640)\n",
    "webcam.set(cv2.CAP_PROP_FRAME_HEIGHT, 480)\n",
    "\n",
    "if not webcam.isOpened():\n",
    "    print(\"Could not open webcam\")\n",
    "    exit()\n",
    "\n",
    "while webcam.isOpened():\n",
    "    ret, frame = webcam.read()\n",
    "    if ret:\n",
    "       cv2.imshow(\"test\", frame)\n",
    "    if cv2.waitKey(1) & 0xFF == ord('q'):\n",
    "        break\n",
    "webcam.release()\n",
    "cv2.destroyAllWindows()"
   ]
  },
  {
   "cell_type": "markdown",
   "metadata": {},
   "source": [
    "### <div class=\"alert alert-block alert-info\"> [Part2] 웹캠에서 비디오에서 정면 얼굴파악\n",
    "- 약 1분 동안 카메라를 바라보고 정면 인식율이 얼마나 되는지를 확인하는 프로그램을 제작하여 보세요\n",
    "- 출력물 (여기서 시간은 시스템 시간이 표시되게 함.)\n",
    " - 시간(시:분:초), 모습\n",
    "   - 9:20:20초         0\n",
    "   - 9:20:21초         X\n",
    "   - 9:20:22초         X"
   ]
  }
 ],
 "metadata": {
  "kernelspec": {
   "display_name": "mp",
   "language": "python",
   "name": "python3"
  },
  "language_info": {
   "codemirror_mode": {
    "name": "ipython",
    "version": 3
   },
   "file_extension": ".py",
   "mimetype": "text/x-python",
   "name": "python",
   "nbconvert_exporter": "python",
   "pygments_lexer": "ipython3",
   "version": "3.11.4"
  },
  "orig_nbformat": 4
 },
 "nbformat": 4,
 "nbformat_minor": 2
}
