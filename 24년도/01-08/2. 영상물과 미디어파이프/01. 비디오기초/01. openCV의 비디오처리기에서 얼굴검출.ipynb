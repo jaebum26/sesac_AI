{
 "cells": [
  {
   "cell_type": "markdown",
   "metadata": {},
   "source": [
    "### <div class=\"alert alert-block alert-info\"> [Part1] openCV를 이용한 비디오 처리\n"
   ]
  },
  {
   "cell_type": "code",
   "execution_count": 1,
   "metadata": {},
   "outputs": [
    {
     "ename": "KeyboardInterrupt",
     "evalue": "",
     "output_type": "error",
     "traceback": [
      "\u001b[1;31m---------------------------------------------------------------------------\u001b[0m",
      "\u001b[1;31mKeyboardInterrupt\u001b[0m                         Traceback (most recent call last)",
      "Cell \u001b[1;32mIn[1], line 22\u001b[0m\n\u001b[0;32m     18\u001b[0m \u001b[38;5;28;01mif\u001b[39;00m ret:                     \u001b[38;5;66;03m# 프레임 읽기 정상\u001b[39;00m\n\u001b[0;32m     19\u001b[0m     cv2\u001b[38;5;241m.\u001b[39mimshow(\u001b[38;5;124m'\u001b[39m\u001b[38;5;124mtitle\u001b[39m\u001b[38;5;124m'\u001b[39m, frame) \u001b[38;5;66;03m# 화면에 표시  --- ③\u001b[39;00m\n\u001b[1;32m---> 22\u001b[0m \u001b[38;5;28;01mif\u001b[39;00m \u001b[43mcv2\u001b[49m\u001b[38;5;241;43m.\u001b[39;49m\u001b[43mwaitKey\u001b[49m\u001b[43m(\u001b[49m\u001b[43mdelay\u001b[49m\u001b[43m)\u001b[49m \u001b[38;5;241m&\u001b[39m \u001b[38;5;241m0xFF\u001b[39m \u001b[38;5;241m==\u001b[39m \u001b[38;5;28mord\u001b[39m(\u001b[38;5;124m'\u001b[39m\u001b[38;5;124mq\u001b[39m\u001b[38;5;124m'\u001b[39m) :\n\u001b[0;32m     23\u001b[0m     cap\u001b[38;5;241m.\u001b[39mrelease()                       \u001b[38;5;66;03m# 캡쳐 자원 반납\u001b[39;00m\n\u001b[0;32m     24\u001b[0m     cv2\u001b[38;5;241m.\u001b[39mdestroyAllWindows()\n",
      "\u001b[1;31mKeyboardInterrupt\u001b[0m: "
     ]
    }
   ],
   "source": [
    "#######################################\n",
    "### 비디오를 시작함. (틱톡비디오 )\n",
    "######################################\n",
    "import cv2\n",
    "from glob import glob\n",
    "\n",
    "fileList=glob('./data/*.mp4')\n",
    "vedio_file=fileList[0]\n",
    "cap = cv2.VideoCapture(vedio_file) # 동영상 캡쳐 객체 생성  ---①\n",
    "fps=cap.get(cv2.CAP_PROP_FPS)\n",
    "delay=int(1000/fps)\n",
    "\n",
    "cnt=0\n",
    "while cap.isOpened():\n",
    "\n",
    "    ret, frame = cap.read()      # ret는 프레임이 있는지 확인, img는 각 프레임별 이미지\n",
    "    cnt+=1\n",
    "    if ret:                     # 프레임 읽기 정상\n",
    "        cv2.imshow('title', frame) # 화면에 표시  --- ③\n",
    "    \n",
    "        \n",
    "    if cv2.waitKey(delay) & 0xFF == ord('q') :\n",
    "        cap.release()                       # 캡쳐 자원 반납\n",
    "        cv2.destroyAllWindows()\n",
    "        break\n",
    "\n",
    "print('total img: {0}'.format(cnt))"
   ]
  },
  {
   "cell_type": "markdown",
   "metadata": {},
   "source": [
    "### <div class=\"alert alert-block alert-info\"> [Part2] 사진에서 정면 얼굴검출\n",
    "- 다양한 하르검출기\n",
    "    - https://github.com/kipr/opencv/tree/master/data/haarcascades\n",
    "- \n"
   ]
  },
  {
   "cell_type": "code",
   "execution_count": 33,
   "metadata": {},
   "outputs": [],
   "source": [
    "#######################\n",
    "### 사진에서 얼굴검출\n",
    "### 아래 사이트에서 읽어서 확인해보세요\n",
    "### -https://minimin2.tistory.com/139\n",
    "#######################\n",
    "\n",
    "import cv2\n",
    "\n",
    "# haarcascade 불러오기\n",
    "face_cascade = cv2.CascadeClassifier(cv2.data.haarcascades + 'haarcascade_frontalface_default.xml')\n",
    "eye_cascade = cv2.CascadeClassifier(cv2.data.haarcascades + 'haarcascade_eye.xml')\n",
    "\n",
    "# 이미지 불러오기\n",
    "img = cv2.imread('sample.jpg')\n",
    "img= cv2.resize(img, dsize=(1200,600), interpolation=cv2.INTER_LINEAR)\n",
    "gray = cv2.cvtColor(img, cv2.COLOR_BGR2GRAY)\n",
    "\n",
    "# 얼굴 찾기\n",
    "faces = face_cascade.detectMultiScale(gray, 1.3, 5)\n",
    "for (x, y, w, h) in faces:\n",
    "    cv2.rectangle(img, (x, y), (x + w, y + h), (255, 0, 0), 2)\n",
    "\n",
    "    # 눈 찾기\n",
    "    roi_color = img[y:y + h, x:x + w]\n",
    "    roi_gray = gray[y:y + h, x:x + w]\n",
    "    eyes = eye_cascade.detectMultiScale(roi_gray)\n",
    "    for (ex, ey, ew, eh) in eyes:\n",
    "        cv2.rectangle(roi_color, (ex, ey), (ex+ew, ey+eh), (0, 255, 0), 2)\n",
    "\n",
    "# 영상 출력\n",
    "cv2.imshow('image', img)\n",
    "\n",
    "key = cv2.waitKey(0)\n",
    "cv2.destroyAllWindows()"
   ]
  },
  {
   "cell_type": "markdown",
   "metadata": {},
   "source": [
    "### <div class=\"alert alert-block alert-info\"> [Part3] TikTok Trending Videos\n",
    "- https://www.kaggle.com/code/stpeteishii/faces-extract-from-tiktok\n",
    "- kaggle에서도 비디오에서 얼굴만 검출하여서 별도의 폴더에 저장하고 별도의 작업 없음."
   ]
  },
  {
   "cell_type": "code",
   "execution_count": 47,
   "metadata": {},
   "outputs": [
    {
     "name": "stdout",
     "output_type": "stream",
     "text": [
      "75save\n",
      "76save\n",
      "77save\n",
      "78save\n",
      "109save\n",
      "114save\n",
      "123save\n",
      "139save\n"
     ]
    }
   ],
   "source": [
    "###################################\n",
    "## 틱톡 비디오 리스트에서 영상물 한개에 대하여 정면 얼굴 검출\n",
    "## 중요하게 확인하지 않음. 대략적으로만 보셔요\n",
    "####################################\n",
    "from glob import glob\n",
    "import cv2\n",
    "\n",
    "fileList=glob('./data/*.mp4')\n",
    "vedio_file=fileList[0]\n",
    "cap = cv2.VideoCapture(vedio_file) # 동영상 캡쳐 객체 생성  ---①\n",
    "fps=cap.get(cv2.CAP_PROP_FPS)\n",
    "delay=int(1000/fps)\n",
    "\n",
    "face_cascade = cv2.CascadeClassifier(cv2.data.haarcascades + 'haarcascade_frontalface_default.xml')\n",
    "\n",
    "\n",
    "fileName,dataList,frameNum=[],[],[]\n",
    "cnt=0\n",
    "\n",
    "while cap.isOpened():\n",
    "    ret, frame = cap.read()\n",
    "    \n",
    "    if ret:\n",
    "        \n",
    "        faces = face_cascade.detectMultiScale(frame, 1.3, 5)\n",
    "        for (x, y, w, h) in faces:\n",
    "            cv2.rectangle(frame, (x, y), (x + w, y + h), (255, 0, 0), 2)\n",
    "            cv2.imwrite( './faces/'+ str(cnt) + '.jpg', frame)   # 전체사진 저장하기\n",
    "            \n",
    "            \n",
    "            roi=frame[y:y+h,x:x+w]\n",
    "            cv2.imwrite( './faces_cut/'+ str(cnt) + '.jpg', roi) # 얼굴영역만 저장하기\n",
    "            print(str(cnt) + 'save')\n",
    "            \n",
    "            fileName.append(vedio_file)\n",
    "            dataList.append([x,y,w,h])\n",
    "            frameNum.append(cnt)\n",
    "            \n",
    "        cv2.imshow('title', frame) # 화면에 표시  --- ③\n",
    "        \n",
    "        \n",
    "        \n",
    "        cv2.waitKey(delay)\n",
    "        \n",
    "        cnt+=1\n",
    "    else:\n",
    "        break\n",
    "        \n",
    "cap.release()\n",
    "cv2.destroyAllWindows()      \n"
   ]
  },
  {
   "cell_type": "code",
   "execution_count": null,
   "metadata": {},
   "outputs": [
    {
     "data": {
      "text/html": [
       "<div>\n",
       "<style scoped>\n",
       "    .dataframe tbody tr th:only-of-type {\n",
       "        vertical-align: middle;\n",
       "    }\n",
       "\n",
       "    .dataframe tbody tr th {\n",
       "        vertical-align: top;\n",
       "    }\n",
       "\n",
       "    .dataframe thead th {\n",
       "        text-align: right;\n",
       "    }\n",
       "</style>\n",
       "<table border=\"1\" class=\"dataframe\">\n",
       "  <thead>\n",
       "    <tr style=\"text-align: right;\">\n",
       "      <th></th>\n",
       "      <th>fileName</th>\n",
       "      <th>frameNum</th>\n",
       "      <th>dataList</th>\n",
       "    </tr>\n",
       "  </thead>\n",
       "  <tbody>\n",
       "    <tr>\n",
       "      <th>0</th>\n",
       "      <td>./data\\6875317312082201857.mp4</td>\n",
       "      <td>75</td>\n",
       "      <td>[337, 185, 47, 47]</td>\n",
       "    </tr>\n",
       "    <tr>\n",
       "      <th>1</th>\n",
       "      <td>./data\\6875317312082201857.mp4</td>\n",
       "      <td>76</td>\n",
       "      <td>[333, 184, 46, 46]</td>\n",
       "    </tr>\n",
       "    <tr>\n",
       "      <th>2</th>\n",
       "      <td>./data\\6875317312082201857.mp4</td>\n",
       "      <td>77</td>\n",
       "      <td>[327, 181, 46, 46]</td>\n",
       "    </tr>\n",
       "    <tr>\n",
       "      <th>3</th>\n",
       "      <td>./data\\6875317312082201857.mp4</td>\n",
       "      <td>78</td>\n",
       "      <td>[320, 178, 47, 47]</td>\n",
       "    </tr>\n",
       "    <tr>\n",
       "      <th>4</th>\n",
       "      <td>./data\\6875317312082201857.mp4</td>\n",
       "      <td>109</td>\n",
       "      <td>[308, 293, 89, 89]</td>\n",
       "    </tr>\n",
       "    <tr>\n",
       "      <th>5</th>\n",
       "      <td>./data\\6875317312082201857.mp4</td>\n",
       "      <td>114</td>\n",
       "      <td>[398, 460, 56, 56]</td>\n",
       "    </tr>\n",
       "    <tr>\n",
       "      <th>6</th>\n",
       "      <td>./data\\6875317312082201857.mp4</td>\n",
       "      <td>123</td>\n",
       "      <td>[413, 294, 28, 28]</td>\n",
       "    </tr>\n",
       "    <tr>\n",
       "      <th>7</th>\n",
       "      <td>./data\\6875317312082201857.mp4</td>\n",
       "      <td>139</td>\n",
       "      <td>[419, 298, 26, 26]</td>\n",
       "    </tr>\n",
       "  </tbody>\n",
       "</table>\n",
       "</div>"
      ],
      "text/plain": [
       "                         fileName  frameNum            dataList\n",
       "0  ./data\\6875317312082201857.mp4        75  [337, 185, 47, 47]\n",
       "1  ./data\\6875317312082201857.mp4        76  [333, 184, 46, 46]\n",
       "2  ./data\\6875317312082201857.mp4        77  [327, 181, 46, 46]\n",
       "3  ./data\\6875317312082201857.mp4        78  [320, 178, 47, 47]\n",
       "4  ./data\\6875317312082201857.mp4       109  [308, 293, 89, 89]\n",
       "5  ./data\\6875317312082201857.mp4       114  [398, 460, 56, 56]\n",
       "6  ./data\\6875317312082201857.mp4       123  [413, 294, 28, 28]\n",
       "7  ./data\\6875317312082201857.mp4       139  [419, 298, 26, 26]"
      ]
     },
     "execution_count": 41,
     "metadata": {},
     "output_type": "execute_result"
    }
   ],
   "source": [
    "import pandas as pd\n",
    "df=pd.DataFrame({'fileName':fileName,\n",
    "                 'frameNum':frameNum, \n",
    "              'dataList':dataList})\n",
    "\n",
    "df\n"
   ]
  },
  {
   "cell_type": "code",
   "execution_count": 49,
   "metadata": {},
   "outputs": [
    {
     "ename": "KeyboardInterrupt",
     "evalue": "",
     "output_type": "error",
     "traceback": [
      "\u001b[1;31m---------------------------------------------------------------------------\u001b[0m",
      "\u001b[1;31mKeyboardInterrupt\u001b[0m                         Traceback (most recent call last)",
      "Cell \u001b[1;32mIn[49], line 28\u001b[0m\n\u001b[0;32m     24\u001b[0m ret, frame \u001b[39m=\u001b[39m cap\u001b[39m.\u001b[39mread()\n\u001b[0;32m     26\u001b[0m \u001b[39mif\u001b[39;00m ret:\n\u001b[1;32m---> 28\u001b[0m     faces \u001b[39m=\u001b[39m face_cascade\u001b[39m.\u001b[39mdetectMultiScale(frame, \u001b[39m1.3\u001b[39m, \u001b[39m5\u001b[39m)\n\u001b[0;32m     29\u001b[0m     \u001b[39mfor\u001b[39;00m (x, y, w, h) \u001b[39min\u001b[39;00m faces:\n\u001b[0;32m     30\u001b[0m         cv2\u001b[39m.\u001b[39mrectangle(frame, (x, y), (x \u001b[39m+\u001b[39m w, y \u001b[39m+\u001b[39m h), (\u001b[39m255\u001b[39m, \u001b[39m0\u001b[39m, \u001b[39m0\u001b[39m), \u001b[39m2\u001b[39m)\n",
      "\u001b[1;31mKeyboardInterrupt\u001b[0m: "
     ]
    }
   ],
   "source": [
    "################################\n",
    "## data 폴더내의 영상정보 모두 사용\n",
    "## 여러 동영상에서 정면 얼굴 정보 검출\n",
    "###############################\n",
    "from glob import glob\n",
    "import cv2\n",
    "\n",
    "fileList=glob('./data/*.mp4')\n",
    "\n",
    "\n",
    "\n",
    "\n",
    "\n",
    "face_cascade = cv2.CascadeClassifier(cv2.data.haarcascades + 'haarcascade_frontalface_default.xml')\n",
    "fileName,dataList,frameNum=[],[],[]\n",
    "\n",
    "for vedio_file in fileList:\n",
    "    cap = cv2.VideoCapture(vedio_file) # 동영상 캡쳐 객체 생성  ---①\n",
    "    fps=cap.get(cv2.CAP_PROP_FPS)\n",
    "    delay=int(1000/fps)\n",
    "    \n",
    "    cnt=0\n",
    "    while cap.isOpened():\n",
    "        ret, frame = cap.read()\n",
    "        \n",
    "        if ret:\n",
    "            \n",
    "            faces = face_cascade.detectMultiScale(frame, 1.3, 5)\n",
    "            for (x, y, w, h) in faces:\n",
    "                cv2.rectangle(frame, (x, y), (x + w, y + h), (255, 0, 0), 2)\n",
    "                fileName.append(vedio_file)\n",
    "                dataList.append([x,y,w,h])\n",
    "                frameNum.append(cnt)\n",
    "                \n",
    "            cv2.imshow('title', frame) # 화면에 표시  --- ③\n",
    "            cv2.waitKey(delay)\n",
    "            cnt+=1\n",
    "        else:\n",
    "            break\n",
    "            \n",
    "    cap.release()\n",
    "    cv2.destroyAllWindows()      \n",
    "    print(vedio_file + '- end - ')\n",
    "   "
   ]
  },
  {
   "cell_type": "code",
   "execution_count": 18,
   "metadata": {},
   "outputs": [
    {
     "data": {
      "text/html": [
       "<div>\n",
       "<style scoped>\n",
       "    .dataframe tbody tr th:only-of-type {\n",
       "        vertical-align: middle;\n",
       "    }\n",
       "\n",
       "    .dataframe tbody tr th {\n",
       "        vertical-align: top;\n",
       "    }\n",
       "\n",
       "    .dataframe thead th {\n",
       "        text-align: right;\n",
       "    }\n",
       "</style>\n",
       "<table border=\"1\" class=\"dataframe\">\n",
       "  <thead>\n",
       "    <tr style=\"text-align: right;\">\n",
       "      <th></th>\n",
       "      <th>fileName</th>\n",
       "      <th>frameNum</th>\n",
       "      <th>dataList</th>\n",
       "    </tr>\n",
       "  </thead>\n",
       "  <tbody>\n",
       "    <tr>\n",
       "      <th>0</th>\n",
       "      <td>./data\\6875317312082201857.mp4</td>\n",
       "      <td>75</td>\n",
       "      <td>[337, 185, 47, 47]</td>\n",
       "    </tr>\n",
       "    <tr>\n",
       "      <th>1</th>\n",
       "      <td>./data\\6875317312082201857.mp4</td>\n",
       "      <td>76</td>\n",
       "      <td>[333, 184, 46, 46]</td>\n",
       "    </tr>\n",
       "    <tr>\n",
       "      <th>2</th>\n",
       "      <td>./data\\6875317312082201857.mp4</td>\n",
       "      <td>77</td>\n",
       "      <td>[327, 181, 46, 46]</td>\n",
       "    </tr>\n",
       "    <tr>\n",
       "      <th>3</th>\n",
       "      <td>./data\\6875317312082201857.mp4</td>\n",
       "      <td>78</td>\n",
       "      <td>[320, 178, 47, 47]</td>\n",
       "    </tr>\n",
       "    <tr>\n",
       "      <th>4</th>\n",
       "      <td>./data\\6875317312082201857.mp4</td>\n",
       "      <td>109</td>\n",
       "      <td>[308, 293, 89, 89]</td>\n",
       "    </tr>\n",
       "  </tbody>\n",
       "</table>\n",
       "</div>"
      ],
      "text/plain": [
       "                         fileName  frameNum            dataList\n",
       "0  ./data\\6875317312082201857.mp4        75  [337, 185, 47, 47]\n",
       "1  ./data\\6875317312082201857.mp4        76  [333, 184, 46, 46]\n",
       "2  ./data\\6875317312082201857.mp4        77  [327, 181, 46, 46]\n",
       "3  ./data\\6875317312082201857.mp4        78  [320, 178, 47, 47]\n",
       "4  ./data\\6875317312082201857.mp4       109  [308, 293, 89, 89]"
      ]
     },
     "execution_count": 18,
     "metadata": {},
     "output_type": "execute_result"
    }
   ],
   "source": [
    "import pandas as pd\n",
    "df=pd.DataFrame({'fileName':fileName,\n",
    "                 'frameNum':frameNum, \n",
    "              'dataList':dataList})\n",
    "\n",
    "df.head()\n"
   ]
  },
  {
   "cell_type": "code",
   "execution_count": 48,
   "metadata": {},
   "outputs": [
    {
     "data": {
      "text/plain": [
       "fileName\n",
       "./data\\6875317312082201857.mp4    8\n",
       "Name: count, dtype: int64"
      ]
     },
     "execution_count": 48,
     "metadata": {},
     "output_type": "execute_result"
    }
   ],
   "source": [
    "df['fileName'].value_counts()  # 정면얼굴 가장 많이 나온 비디오, 단 비디오 길이에 따라 횟수의 의미가 있음으로 비디오 프레임에 따른 평균을 구해야함"
   ]
  },
  {
   "cell_type": "markdown",
   "metadata": {},
   "source": [
    "### <div class=\"alert alert-block alert-info\"> [Part4] TikTok Trending Videos\n",
    "\n",
    "## [얼굴자르기 전처리 실습]\n",
    "- https://seokii.tistory.com/112\n",
    "\n",
    "\n",
    "## [얼굴방향 좌표값 인식 하기 실습]\n",
    "-https://suy379.tistory.com/92 "
   ]
  }
 ],
 "metadata": {
  "kernelspec": {
   "display_name": "mp",
   "language": "python",
   "name": "python3"
  },
  "language_info": {
   "codemirror_mode": {
    "name": "ipython",
    "version": 3
   },
   "file_extension": ".py",
   "mimetype": "text/x-python",
   "name": "python",
   "nbconvert_exporter": "python",
   "pygments_lexer": "ipython3",
   "version": "3.12.0"
  },
  "orig_nbformat": 4
 },
 "nbformat": 4,
 "nbformat_minor": 2
}
