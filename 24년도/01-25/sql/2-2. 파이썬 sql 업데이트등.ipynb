{
 "cells": [
  {
   "cell_type": "markdown",
   "id": "42ea3ae0",
   "metadata": {},
   "source": [
    "###  [3] 파이썬을 이용한  "
   ]
  },
  {
   "cell_type": "code",
   "execution_count": 15,
   "id": "42b31e64",
   "metadata": {},
   "outputs": [],
   "source": [
    "# Section12-3\n",
    "# 파이썬 데이터베이스 연동(SQLite)\n",
    "# 테이블 수정 및 삭제\n",
    "\n",
    "import sqlite3\n",
    "\n",
    "# DB생성(파일)\n",
    "base_dir='c:/users/hrpark/desktop/bu_sql/'\n",
    "conn = sqlite3.connect('eCommerce.db')\n",
    "\n",
    "# Cursor연결\n",
    "c = conn.cursor()\n",
    "\n",
    "# 데이터 수정1\n",
    "c.execute(\"UPDATE 담당자 SET 담당자이름 = ? WHERE 담당자id = ?\", ('niceman', 1))\n",
    "\n"
   ]
  },
  {
   "cell_type": "code",
   "execution_count": 16,
   "id": "d2f9c30b",
   "metadata": {},
   "outputs": [
    {
     "ename": "OperationalError",
     "evalue": "no such table: 담당자",
     "output_type": "error",
     "traceback": [
      "\u001b[1;31m---------------------------------------------------------------------------\u001b[0m",
      "\u001b[1;31mOperationalError\u001b[0m                          Traceback (most recent call last)",
      "\u001b[1;32m~\\AppData\\Local\\Temp/ipykernel_40580/8917686.py\u001b[0m in \u001b[0;36m<module>\u001b[1;34m\u001b[0m\n\u001b[0;32m      1\u001b[0m \u001b[1;31m# 데이터 수정2\u001b[0m\u001b[1;33m\u001b[0m\u001b[1;33m\u001b[0m\u001b[1;33m\u001b[0m\u001b[0m\n\u001b[1;32m----> 2\u001b[1;33m \u001b[0mc\u001b[0m\u001b[1;33m.\u001b[0m\u001b[0mexecute\u001b[0m\u001b[1;33m(\u001b[0m\u001b[1;34m\"UPDATE 담당자 SET 담당자이름 = :name WHERE 담당자id = :id\"\u001b[0m\u001b[1;33m,\u001b[0m \u001b[1;33m{\u001b[0m\u001b[1;34m\"name\"\u001b[0m\u001b[1;33m:\u001b[0m \u001b[1;34m'niceman'\u001b[0m\u001b[1;33m,\u001b[0m \u001b[1;34m'id'\u001b[0m\u001b[1;33m:\u001b[0m \u001b[1;36m3\u001b[0m\u001b[1;33m}\u001b[0m\u001b[1;33m)\u001b[0m\u001b[1;33m\u001b[0m\u001b[1;33m\u001b[0m\u001b[0m\n\u001b[0m\u001b[0;32m      3\u001b[0m \u001b[1;33m\u001b[0m\u001b[0m\n",
      "\u001b[1;31mOperationalError\u001b[0m: no such table: 담당자"
     ]
    }
   ],
   "source": [
    "\n",
    "# 데이터 수정2\n",
    "c.execute(\"UPDATE 담당자 SET 담당자이름 = :name WHERE 담당자id = :id\", {\"name\": 'niceman', 'id': 3})\n",
    "\n"
   ]
  },
  {
   "cell_type": "code",
   "execution_count": null,
   "id": "69c17cf1",
   "metadata": {},
   "outputs": [],
   "source": [
    "\n",
    "# 데이터 수정3\n",
    "c.execute(\"UPDATE 담당자 SET 담당자명 = '%s' WHERE 담당자id = '%s'\" % ('badboy', 5))\n"
   ]
  },
  {
   "cell_type": "code",
   "execution_count": null,
   "id": "3175689e",
   "metadata": {},
   "outputs": [],
   "source": [
    "\n",
    "# 중간 데이터 확인1\n",
    "for user in c.execute('SELECT * FROM 담당자'):\n",
    "    print(user)\n"
   ]
  },
  {
   "cell_type": "code",
   "execution_count": null,
   "id": "b5abd8c7",
   "metadata": {},
   "outputs": [],
   "source": [
    "\n",
    "# Row Delete1\n",
    "c.execute(\"DELETE FROM 담당자 WHERE 담당자id = ?\", (7,))\n"
   ]
  },
  {
   "cell_type": "code",
   "execution_count": null,
   "id": "f8f89236",
   "metadata": {},
   "outputs": [],
   "source": [
    "\n",
    "# Row Delete2\n",
    "c.execute(\"DELETE FROM 담당자 WHERE 담당자id = :id\", {'id': 8})\n"
   ]
  },
  {
   "cell_type": "code",
   "execution_count": null,
   "id": "c107828d",
   "metadata": {},
   "outputs": [],
   "source": [
    "\n",
    "# Row Delete3\n",
    "c.execute(\"DELETE FROM users WHERE id = '%s'\" % 9)\n"
   ]
  },
  {
   "cell_type": "code",
   "execution_count": null,
   "id": "d991254c",
   "metadata": {},
   "outputs": [],
   "source": [
    "\n",
    "# 중간 데이터 확인2\n",
    "for user in c.execute('SELECT * FROM 담당자'):\n",
    "    print(user)\n"
   ]
  },
  {
   "cell_type": "code",
   "execution_count": null,
   "id": "4d7f8193",
   "metadata": {},
   "outputs": [],
   "source": [
    "\n",
    "# 테이블 전체 데이터 삭제\n",
    "print(\"users db deleted : \", conn.execute(\"delete from 담당자\").rowcount, \"rows\")\n",
    "\n",
    "# 관계형 데이터 베이스\n",
    "\n",
    "# 커밋\n",
    "conn.commit()\n",
    "\n",
    "# 접속 해제\n",
    "conn.close()"
   ]
  }
 ],
 "metadata": {
  "kernelspec": {
   "display_name": "Python 3 (ipykernel)",
   "language": "python",
   "name": "python3"
  },
  "language_info": {
   "codemirror_mode": {
    "name": "ipython",
    "version": 3
   },
   "file_extension": ".py",
   "mimetype": "text/x-python",
   "name": "python",
   "nbconvert_exporter": "python",
   "pygments_lexer": "ipython3",
   "version": "3.9.5"
  }
 },
 "nbformat": 4,
 "nbformat_minor": 5
}
