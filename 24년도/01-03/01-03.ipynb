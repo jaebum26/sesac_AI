{
 "cells": [
  {
   "cell_type": "code",
   "execution_count": 15,
   "metadata": {},
   "outputs": [
    {
     "name": "stdout",
     "output_type": "stream",
     "text": [
      "--------------\n"
     ]
    },
    {
     "data": {
      "text/plain": [
       "<__main__.cal at 0x1eb3a845d90>"
      ]
     },
     "execution_count": 15,
     "metadata": {},
     "output_type": "execute_result"
    }
   ],
   "source": [
    "class cal:\n",
    "    def __init__(self,a,b):\n",
    "        # self.aa=a\n",
    "        # self.bb=b\n",
    "        print('--------------')\n",
    "        # print(self.aa,self.bb)\n",
    "\n",
    "    def mysum(*args):\n",
    "        sum=0\n",
    "        for x in args:\n",
    "            sum+=x\n",
    "        return sum\n",
    "\n",
    "    def mymat(*args):\n",
    "        sum=1\n",
    "        for x in args:\n",
    "            sum*=x\n",
    "        return sum\n",
    "    \n",
    "my=cal(3,4)\n",
    "my\n",
    "\n",
    "#my.mysum(1,2,3,3,5)\n",
    "\n",
    "#my.mymat(4,3,2)\n",
    "\n"
   ]
  },
  {
   "cell_type": "code",
   "execution_count": 18,
   "metadata": {},
   "outputs": [
    {
     "name": "stdout",
     "output_type": "stream",
     "text": [
      "7\n"
     ]
    }
   ],
   "source": [
    "class cal:\n",
    "    def __init__(self):     #클래스에 인스턴스를 생성하는 순간 맨처음 실행되는 함수\n",
    "        print('--------------')\n",
    "    def test(x=2):\n",
    "        print(x+5)\n",
    "cal.test()"
   ]
  },
  {
   "cell_type": "code",
   "execution_count": 20,
   "metadata": {},
   "outputs": [
    {
     "name": "stdout",
     "output_type": "stream",
     "text": [
      "--------------\n",
      "5\n",
      "--------------\n",
      "14\n",
      "13\n"
     ]
    }
   ],
   "source": [
    "class cal:\n",
    "    def __init__(self,v1=2,v2=3):     #클래스에 인스턴스를 생성하는 순간 맨처음 실행되는 함수\n",
    "        print('--------------')\n",
    "        self.x=v1\n",
    "        self.y=v2\n",
    "        print(self.x+self.y)\n",
    "    def test(x=2):\n",
    "        print(x+5)\n",
    "\n",
    "cal()\n",
    "cal(6,8)\n",
    "cal.test(8)"
   ]
  },
  {
   "cell_type": "code",
   "execution_count": 25,
   "metadata": {},
   "outputs": [
    {
     "name": "stdout",
     "output_type": "stream",
     "text": [
      "--------------\n",
      "bu사용자가 작업합니다.\n",
      "2\n",
      "--------------\n",
      "ddddd사용자가 작업합니다.\n",
      "40\n"
     ]
    }
   ],
   "source": [
    "class cal:\n",
    "    def __init__(self,userName='bu'):     #클래스에 인스턴스를 생성하는 순간 맨처음 실행되는 함수\n",
    "        print('--------------')\n",
    "        self.name=userName\n",
    "        print(self.name + '사용자가 작업합니다.')\n",
    "    def test(self,x=2):\n",
    "        if self.name!='bu':\n",
    "            print(x*20)\n",
    "        else:\n",
    "            print(x)\n",
    "\n",
    "aa=cal()\n",
    "aa.test()\n",
    "\n",
    "bb=cal('ddddd')\n",
    "bb.test()"
   ]
  },
  {
   "cell_type": "code",
   "execution_count": 28,
   "metadata": {},
   "outputs": [
    {
     "name": "stdout",
     "output_type": "stream",
     "text": [
      "--------------\n",
      "bu사용자가 작업합니다.\n",
      "1\n",
      "--------------\n",
      "bu사용자가 작업합니다.\n",
      "2\n",
      "--------------\n",
      "bu사용자가 작업합니다.\n",
      "3\n"
     ]
    },
    {
     "data": {
      "text/plain": [
       "<__main__.cal at 0x1eb3a89de80>"
      ]
     },
     "execution_count": 28,
     "metadata": {},
     "output_type": "execute_result"
    }
   ],
   "source": [
    "class cal:\n",
    "    total = 0\n",
    "    def __init__(self,userName='bu'):     #클래스에 인스턴스를 생성하는 순간 맨처음 실행되는 함수\n",
    "        print('--------------')\n",
    "        self.name=userName\n",
    "        print(self.name + '사용자가 작업합니다.')\n",
    "        cal.total+=1\n",
    "        print(cal.total)\n",
    "\n",
    "    def test(self,x=2):\n",
    "        if self.name!='bu':\n",
    "            print(x*20)\n",
    "        else:\n",
    "            print(x)\n",
    "\n",
    "cal()\n",
    "cal()\n",
    "cal()\n",
    "\n"
   ]
  }
 ],
 "metadata": {
  "kernelspec": {
   "display_name": "a",
   "language": "python",
   "name": "python3"
  },
  "language_info": {
   "codemirror_mode": {
    "name": "ipython",
    "version": 3
   },
   "file_extension": ".py",
   "mimetype": "text/x-python",
   "name": "python",
   "nbconvert_exporter": "python",
   "pygments_lexer": "ipython3",
   "version": "3.12.0"
  }
 },
 "nbformat": 4,
 "nbformat_minor": 2
}
